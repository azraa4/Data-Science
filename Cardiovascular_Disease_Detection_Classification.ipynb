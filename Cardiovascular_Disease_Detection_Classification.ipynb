{
 "cells": [
  {
   "cell_type": "code",
   "execution_count": 1,
   "metadata": {},
   "outputs": [],
   "source": [
    "# To read, write, and manipulate data sets in DataFrame format\n",
    "import pandas as pd\n",
    "# For mathematical functions\n",
    "import numpy as np\n",
    "# For data visualization\n",
    "import matplotlib.pyplot as plt\n",
    "# To split data sets into training and testing sets\n",
    "from sklearn.model_selection import train_test_split\n",
    "# To standardizes features by removing the mean and scaling to unit variance.\n",
    "from sklearn.preprocessing import StandardScaler\n",
    "# For using the Decision Tree Classifier model\n",
    "from sklearn.tree import DecisionTreeClassifier\n",
    "# For classification report\n",
    "from sklearn.metrics import classification_report\n",
    "# To compute performance metrics\n",
    "from sklearn.metrics import accuracy_score, precision_score, recall_score, f1_score, fbeta_score\n",
    "# For using the Random Forest Classifier model\n",
    "from sklearn.ensemble import RandomForestClassifier\n",
    "# To visualize the confusion matrix\n",
    "from sklearn.metrics import ConfusionMatrixDisplay\n",
    "# To compute the confusion matrix\n",
    "from sklearn.metrics import confusion_matrix\n",
    "#To found optimal parameters using grid search\n",
    "from sklearn.model_selection import GridSearchCV\n",
    "# For using the K-Nearest Neighbors Classifier model\n",
    "from sklearn.neighbors import KNeighborsClassifier\n",
    "# For using the Gaussian Naive Bayes Classifier model\n",
    "from sklearn.naive_bayes import GaussianNB\n",
    "# To scale features between 0 and 1\n",
    "from sklearn.preprocessing import MinMaxScaler"
   ]
  },
  {
   "cell_type": "code",
   "execution_count": 2,
   "metadata": {},
   "outputs": [],
   "source": [
    "#Reading grom csv file and divide the data into columns\n",
    "mydf = pd.read_csv('data.csv', delimiter = \";\")"
   ]
  },
  {
   "cell_type": "code",
   "execution_count": 3,
   "metadata": {},
   "outputs": [
    {
     "data": {
      "text/html": [
       "<div>\n",
       "<style scoped>\n",
       "    .dataframe tbody tr th:only-of-type {\n",
       "        vertical-align: middle;\n",
       "    }\n",
       "\n",
       "    .dataframe tbody tr th {\n",
       "        vertical-align: top;\n",
       "    }\n",
       "\n",
       "    .dataframe thead th {\n",
       "        text-align: right;\n",
       "    }\n",
       "</style>\n",
       "<table border=\"1\" class=\"dataframe\">\n",
       "  <thead>\n",
       "    <tr style=\"text-align: right;\">\n",
       "      <th></th>\n",
       "      <th>id</th>\n",
       "      <th>age</th>\n",
       "      <th>gender</th>\n",
       "      <th>height</th>\n",
       "      <th>weight</th>\n",
       "      <th>ap_hi</th>\n",
       "      <th>ap_lo</th>\n",
       "      <th>cholesterol</th>\n",
       "      <th>gluc</th>\n",
       "      <th>smoke</th>\n",
       "      <th>alco</th>\n",
       "      <th>active</th>\n",
       "      <th>cardio</th>\n",
       "    </tr>\n",
       "  </thead>\n",
       "  <tbody>\n",
       "    <tr>\n",
       "      <th>0</th>\n",
       "      <td>0</td>\n",
       "      <td>18393</td>\n",
       "      <td>2</td>\n",
       "      <td>168</td>\n",
       "      <td>62.0</td>\n",
       "      <td>110</td>\n",
       "      <td>80</td>\n",
       "      <td>1</td>\n",
       "      <td>1</td>\n",
       "      <td>0</td>\n",
       "      <td>0</td>\n",
       "      <td>1</td>\n",
       "      <td>0</td>\n",
       "    </tr>\n",
       "    <tr>\n",
       "      <th>1</th>\n",
       "      <td>1</td>\n",
       "      <td>20228</td>\n",
       "      <td>1</td>\n",
       "      <td>156</td>\n",
       "      <td>85.0</td>\n",
       "      <td>140</td>\n",
       "      <td>90</td>\n",
       "      <td>3</td>\n",
       "      <td>1</td>\n",
       "      <td>0</td>\n",
       "      <td>0</td>\n",
       "      <td>1</td>\n",
       "      <td>1</td>\n",
       "    </tr>\n",
       "    <tr>\n",
       "      <th>2</th>\n",
       "      <td>2</td>\n",
       "      <td>18857</td>\n",
       "      <td>1</td>\n",
       "      <td>165</td>\n",
       "      <td>64.0</td>\n",
       "      <td>130</td>\n",
       "      <td>70</td>\n",
       "      <td>3</td>\n",
       "      <td>1</td>\n",
       "      <td>0</td>\n",
       "      <td>0</td>\n",
       "      <td>0</td>\n",
       "      <td>1</td>\n",
       "    </tr>\n",
       "    <tr>\n",
       "      <th>3</th>\n",
       "      <td>3</td>\n",
       "      <td>17623</td>\n",
       "      <td>2</td>\n",
       "      <td>169</td>\n",
       "      <td>82.0</td>\n",
       "      <td>150</td>\n",
       "      <td>100</td>\n",
       "      <td>1</td>\n",
       "      <td>1</td>\n",
       "      <td>0</td>\n",
       "      <td>0</td>\n",
       "      <td>1</td>\n",
       "      <td>1</td>\n",
       "    </tr>\n",
       "    <tr>\n",
       "      <th>4</th>\n",
       "      <td>4</td>\n",
       "      <td>17474</td>\n",
       "      <td>1</td>\n",
       "      <td>156</td>\n",
       "      <td>56.0</td>\n",
       "      <td>100</td>\n",
       "      <td>60</td>\n",
       "      <td>1</td>\n",
       "      <td>1</td>\n",
       "      <td>0</td>\n",
       "      <td>0</td>\n",
       "      <td>0</td>\n",
       "      <td>0</td>\n",
       "    </tr>\n",
       "    <tr>\n",
       "      <th>...</th>\n",
       "      <td>...</td>\n",
       "      <td>...</td>\n",
       "      <td>...</td>\n",
       "      <td>...</td>\n",
       "      <td>...</td>\n",
       "      <td>...</td>\n",
       "      <td>...</td>\n",
       "      <td>...</td>\n",
       "      <td>...</td>\n",
       "      <td>...</td>\n",
       "      <td>...</td>\n",
       "      <td>...</td>\n",
       "      <td>...</td>\n",
       "    </tr>\n",
       "    <tr>\n",
       "      <th>69995</th>\n",
       "      <td>99993</td>\n",
       "      <td>19240</td>\n",
       "      <td>2</td>\n",
       "      <td>168</td>\n",
       "      <td>76.0</td>\n",
       "      <td>120</td>\n",
       "      <td>80</td>\n",
       "      <td>1</td>\n",
       "      <td>1</td>\n",
       "      <td>1</td>\n",
       "      <td>0</td>\n",
       "      <td>1</td>\n",
       "      <td>0</td>\n",
       "    </tr>\n",
       "    <tr>\n",
       "      <th>69996</th>\n",
       "      <td>99995</td>\n",
       "      <td>22601</td>\n",
       "      <td>1</td>\n",
       "      <td>158</td>\n",
       "      <td>126.0</td>\n",
       "      <td>140</td>\n",
       "      <td>90</td>\n",
       "      <td>2</td>\n",
       "      <td>2</td>\n",
       "      <td>0</td>\n",
       "      <td>0</td>\n",
       "      <td>1</td>\n",
       "      <td>1</td>\n",
       "    </tr>\n",
       "    <tr>\n",
       "      <th>69997</th>\n",
       "      <td>99996</td>\n",
       "      <td>19066</td>\n",
       "      <td>2</td>\n",
       "      <td>183</td>\n",
       "      <td>105.0</td>\n",
       "      <td>180</td>\n",
       "      <td>90</td>\n",
       "      <td>3</td>\n",
       "      <td>1</td>\n",
       "      <td>0</td>\n",
       "      <td>1</td>\n",
       "      <td>0</td>\n",
       "      <td>1</td>\n",
       "    </tr>\n",
       "    <tr>\n",
       "      <th>69998</th>\n",
       "      <td>99998</td>\n",
       "      <td>22431</td>\n",
       "      <td>1</td>\n",
       "      <td>163</td>\n",
       "      <td>72.0</td>\n",
       "      <td>135</td>\n",
       "      <td>80</td>\n",
       "      <td>1</td>\n",
       "      <td>2</td>\n",
       "      <td>0</td>\n",
       "      <td>0</td>\n",
       "      <td>0</td>\n",
       "      <td>1</td>\n",
       "    </tr>\n",
       "    <tr>\n",
       "      <th>69999</th>\n",
       "      <td>99999</td>\n",
       "      <td>20540</td>\n",
       "      <td>1</td>\n",
       "      <td>170</td>\n",
       "      <td>72.0</td>\n",
       "      <td>120</td>\n",
       "      <td>80</td>\n",
       "      <td>2</td>\n",
       "      <td>1</td>\n",
       "      <td>0</td>\n",
       "      <td>0</td>\n",
       "      <td>1</td>\n",
       "      <td>0</td>\n",
       "    </tr>\n",
       "  </tbody>\n",
       "</table>\n",
       "<p>70000 rows × 13 columns</p>\n",
       "</div>"
      ],
      "text/plain": [
       "          id    age  gender  height  weight  ap_hi  ap_lo  cholesterol  gluc  \\\n",
       "0          0  18393       2     168    62.0    110     80            1     1   \n",
       "1          1  20228       1     156    85.0    140     90            3     1   \n",
       "2          2  18857       1     165    64.0    130     70            3     1   \n",
       "3          3  17623       2     169    82.0    150    100            1     1   \n",
       "4          4  17474       1     156    56.0    100     60            1     1   \n",
       "...      ...    ...     ...     ...     ...    ...    ...          ...   ...   \n",
       "69995  99993  19240       2     168    76.0    120     80            1     1   \n",
       "69996  99995  22601       1     158   126.0    140     90            2     2   \n",
       "69997  99996  19066       2     183   105.0    180     90            3     1   \n",
       "69998  99998  22431       1     163    72.0    135     80            1     2   \n",
       "69999  99999  20540       1     170    72.0    120     80            2     1   \n",
       "\n",
       "       smoke  alco  active  cardio  \n",
       "0          0     0       1       0  \n",
       "1          0     0       1       1  \n",
       "2          0     0       0       1  \n",
       "3          0     0       1       1  \n",
       "4          0     0       0       0  \n",
       "...      ...   ...     ...     ...  \n",
       "69995      1     0       1       0  \n",
       "69996      0     0       1       1  \n",
       "69997      0     1       0       1  \n",
       "69998      0     0       0       1  \n",
       "69999      0     0       1       0  \n",
       "\n",
       "[70000 rows x 13 columns]"
      ]
     },
     "execution_count": 3,
     "metadata": {},
     "output_type": "execute_result"
    }
   ],
   "source": [
    "mydf"
   ]
  },
  {
   "cell_type": "code",
   "execution_count": 4,
   "metadata": {},
   "outputs": [
    {
     "data": {
      "text/plain": [
       "id             0\n",
       "age            0\n",
       "gender         0\n",
       "height         0\n",
       "weight         0\n",
       "ap_hi          0\n",
       "ap_lo          0\n",
       "cholesterol    0\n",
       "gluc           0\n",
       "smoke          0\n",
       "alco           0\n",
       "active         0\n",
       "cardio         0\n",
       "dtype: int64"
      ]
     },
     "execution_count": 4,
     "metadata": {},
     "output_type": "execute_result"
    }
   ],
   "source": [
    "#To check that any additional null values in the dataset\n",
    "mydf.isnull().sum()"
   ]
  },
  {
   "cell_type": "code",
   "execution_count": 5,
   "metadata": {},
   "outputs": [],
   "source": [
    "#To describe the dataset we can check number of samples, number of features, mean and variance for each fea"
   ]
  },
  {
   "cell_type": "code",
   "execution_count": 6,
   "metadata": {},
   "outputs": [
    {
     "data": {
      "text/plain": [
       "(70000, 13)"
      ]
     },
     "execution_count": 6,
     "metadata": {},
     "output_type": "execute_result"
    }
   ],
   "source": [
    "#To find the of samples and features\n",
    "mydf.shape"
   ]
  },
  {
   "cell_type": "code",
   "execution_count": 7,
   "metadata": {},
   "outputs": [],
   "source": [
    "#Number of samples is 70000 and number of features is 13 in the dataset"
   ]
  },
  {
   "cell_type": "code",
   "execution_count": 8,
   "metadata": {},
   "outputs": [
    {
     "data": {
      "text/plain": [
       "array([[<AxesSubplot:title={'center':'age'}>,\n",
       "        <AxesSubplot:title={'center':'gender'}>,\n",
       "        <AxesSubplot:title={'center':'height'}>],\n",
       "       [<AxesSubplot:title={'center':'weight'}>,\n",
       "        <AxesSubplot:title={'center':'ap_hi'}>,\n",
       "        <AxesSubplot:title={'center':'ap_lo'}>],\n",
       "       [<AxesSubplot:title={'center':'cholesterol'}>,\n",
       "        <AxesSubplot:title={'center':'gluc'}>,\n",
       "        <AxesSubplot:title={'center':'smoke'}>],\n",
       "       [<AxesSubplot:title={'center':'alco'}>,\n",
       "        <AxesSubplot:title={'center':'active'}>,\n",
       "        <AxesSubplot:title={'center':'cardio'}>]], dtype=object)"
      ]
     },
     "execution_count": 8,
     "metadata": {},
     "output_type": "execute_result"
    },
    {
     "data": {
      "image/png": "[encoded data removed]",
      "text/plain": [
       "<Figure size 1152x864 with 12 Axes>"
      ]
     },
     "metadata": {
      "needs_background": "light"
     },
     "output_type": "display_data"
    }
   ],
   "source": [
    "# To create histograms for each feature to visualize their distribution,\n",
    "features = ['age','gender','height','weight','ap_hi','ap_lo','cholesterol','gluc','smoke','alco','active','cardio']\n",
    "mydf[features].hist(figsize=(16, 12))"
   ]
  },
  {
   "cell_type": "code",
   "execution_count": 9,
   "metadata": {},
   "outputs": [
    {
     "data": {
      "text/plain": [
       "age            19468.865814\n",
       "gender             1.349571\n",
       "height           164.359229\n",
       "weight            74.205690\n",
       "ap_hi            128.817286\n",
       "ap_lo             96.630414\n",
       "cholesterol        1.366871\n",
       "gluc               1.226457\n",
       "smoke              0.088129\n",
       "alco               0.053771\n",
       "active             0.803729\n",
       "cardio             0.499700\n",
       "dtype: float64"
      ]
     },
     "execution_count": 9,
     "metadata": {},
     "output_type": "execute_result"
    }
   ],
   "source": [
    "#To find the mean for each features.\n",
    "mydf[features].mean()"
   ]
  },
  {
   "cell_type": "code",
   "execution_count": 10,
   "metadata": {
    "scrolled": true
   },
   "outputs": [
    {
     "data": {
      "text/plain": [
       "age            6.087331e+06\n",
       "gender         2.273745e-01\n",
       "height         6.740617e+01\n",
       "weight         2.072378e+02\n",
       "ap_hi          2.371952e+04\n",
       "ap_lo          3.552189e+04\n",
       "cholesterol    4.627405e-01\n",
       "gluc           3.274933e-01\n",
       "smoke          8.036307e-02\n",
       "alco           5.088079e-02\n",
       "active         1.577512e-01\n",
       "cardio         2.500035e-01\n",
       "dtype: float64"
      ]
     },
     "execution_count": 10,
     "metadata": {},
     "output_type": "execute_result"
    }
   ],
   "source": [
    "#To find the variance for each features.\n",
    "mydf[features].var()"
   ]
  },
  {
   "cell_type": "code",
   "execution_count": 11,
   "metadata": {
    "scrolled": false
   },
   "outputs": [
    {
     "data": {
      "text/html": [
       "<div>\n",
       "<style scoped>\n",
       "    .dataframe tbody tr th:only-of-type {\n",
       "        vertical-align: middle;\n",
       "    }\n",
       "\n",
       "    .dataframe tbody tr th {\n",
       "        vertical-align: top;\n",
       "    }\n",
       "\n",
       "    .dataframe thead th {\n",
       "        text-align: right;\n",
       "    }\n",
       "</style>\n",
       "<table border=\"1\" class=\"dataframe\">\n",
       "  <thead>\n",
       "    <tr style=\"text-align: right;\">\n",
       "      <th></th>\n",
       "      <th>age</th>\n",
       "      <th>gender</th>\n",
       "      <th>height</th>\n",
       "      <th>weight</th>\n",
       "      <th>ap_hi</th>\n",
       "      <th>ap_lo</th>\n",
       "      <th>cholesterol</th>\n",
       "      <th>gluc</th>\n",
       "      <th>smoke</th>\n",
       "      <th>alco</th>\n",
       "      <th>active</th>\n",
       "      <th>cardio</th>\n",
       "    </tr>\n",
       "  </thead>\n",
       "  <tbody>\n",
       "    <tr>\n",
       "      <th>age</th>\n",
       "      <td>1.000000</td>\n",
       "      <td>-0.022811</td>\n",
       "      <td>-0.081515</td>\n",
       "      <td>0.053684</td>\n",
       "      <td>0.020764</td>\n",
       "      <td>0.017647</td>\n",
       "      <td>0.154424</td>\n",
       "      <td>0.098703</td>\n",
       "      <td>-0.047633</td>\n",
       "      <td>-0.029723</td>\n",
       "      <td>-0.009927</td>\n",
       "      <td>0.238159</td>\n",
       "    </tr>\n",
       "    <tr>\n",
       "      <th>gender</th>\n",
       "      <td>-0.022811</td>\n",
       "      <td>1.000000</td>\n",
       "      <td>0.499033</td>\n",
       "      <td>0.155406</td>\n",
       "      <td>0.006005</td>\n",
       "      <td>0.015254</td>\n",
       "      <td>-0.035821</td>\n",
       "      <td>-0.020491</td>\n",
       "      <td>0.338135</td>\n",
       "      <td>0.170966</td>\n",
       "      <td>0.005866</td>\n",
       "      <td>0.008109</td>\n",
       "    </tr>\n",
       "    <tr>\n",
       "      <th>height</th>\n",
       "      <td>-0.081515</td>\n",
       "      <td>0.499033</td>\n",
       "      <td>1.000000</td>\n",
       "      <td>0.290968</td>\n",
       "      <td>0.005488</td>\n",
       "      <td>0.006150</td>\n",
       "      <td>-0.050226</td>\n",
       "      <td>-0.018595</td>\n",
       "      <td>0.187989</td>\n",
       "      <td>0.094419</td>\n",
       "      <td>-0.006570</td>\n",
       "      <td>-0.010821</td>\n",
       "    </tr>\n",
       "    <tr>\n",
       "      <th>weight</th>\n",
       "      <td>0.053684</td>\n",
       "      <td>0.155406</td>\n",
       "      <td>0.290968</td>\n",
       "      <td>1.000000</td>\n",
       "      <td>0.030702</td>\n",
       "      <td>0.043710</td>\n",
       "      <td>0.141768</td>\n",
       "      <td>0.106857</td>\n",
       "      <td>0.067780</td>\n",
       "      <td>0.067113</td>\n",
       "      <td>-0.016867</td>\n",
       "      <td>0.181660</td>\n",
       "    </tr>\n",
       "    <tr>\n",
       "      <th>ap_hi</th>\n",
       "      <td>0.020764</td>\n",
       "      <td>0.006005</td>\n",
       "      <td>0.005488</td>\n",
       "      <td>0.030702</td>\n",
       "      <td>1.000000</td>\n",
       "      <td>0.016086</td>\n",
       "      <td>0.023778</td>\n",
       "      <td>0.011841</td>\n",
       "      <td>-0.000922</td>\n",
       "      <td>0.001408</td>\n",
       "      <td>-0.000033</td>\n",
       "      <td>0.054475</td>\n",
       "    </tr>\n",
       "    <tr>\n",
       "      <th>ap_lo</th>\n",
       "      <td>0.017647</td>\n",
       "      <td>0.015254</td>\n",
       "      <td>0.006150</td>\n",
       "      <td>0.043710</td>\n",
       "      <td>0.016086</td>\n",
       "      <td>1.000000</td>\n",
       "      <td>0.024019</td>\n",
       "      <td>0.010806</td>\n",
       "      <td>0.005186</td>\n",
       "      <td>0.010601</td>\n",
       "      <td>0.004780</td>\n",
       "      <td>0.065719</td>\n",
       "    </tr>\n",
       "    <tr>\n",
       "      <th>cholesterol</th>\n",
       "      <td>0.154424</td>\n",
       "      <td>-0.035821</td>\n",
       "      <td>-0.050226</td>\n",
       "      <td>0.141768</td>\n",
       "      <td>0.023778</td>\n",
       "      <td>0.024019</td>\n",
       "      <td>1.000000</td>\n",
       "      <td>0.451578</td>\n",
       "      <td>0.010354</td>\n",
       "      <td>0.035760</td>\n",
       "      <td>0.009911</td>\n",
       "      <td>0.221147</td>\n",
       "    </tr>\n",
       "    <tr>\n",
       "      <th>gluc</th>\n",
       "      <td>0.098703</td>\n",
       "      <td>-0.020491</td>\n",
       "      <td>-0.018595</td>\n",
       "      <td>0.106857</td>\n",
       "      <td>0.011841</td>\n",
       "      <td>0.010806</td>\n",
       "      <td>0.451578</td>\n",
       "      <td>1.000000</td>\n",
       "      <td>-0.004756</td>\n",
       "      <td>0.011246</td>\n",
       "      <td>-0.006770</td>\n",
       "      <td>0.089307</td>\n",
       "    </tr>\n",
       "    <tr>\n",
       "      <th>smoke</th>\n",
       "      <td>-0.047633</td>\n",
       "      <td>0.338135</td>\n",
       "      <td>0.187989</td>\n",
       "      <td>0.067780</td>\n",
       "      <td>-0.000922</td>\n",
       "      <td>0.005186</td>\n",
       "      <td>0.010354</td>\n",
       "      <td>-0.004756</td>\n",
       "      <td>1.000000</td>\n",
       "      <td>0.340094</td>\n",
       "      <td>0.025858</td>\n",
       "      <td>-0.015486</td>\n",
       "    </tr>\n",
       "    <tr>\n",
       "      <th>alco</th>\n",
       "      <td>-0.029723</td>\n",
       "      <td>0.170966</td>\n",
       "      <td>0.094419</td>\n",
       "      <td>0.067113</td>\n",
       "      <td>0.001408</td>\n",
       "      <td>0.010601</td>\n",
       "      <td>0.035760</td>\n",
       "      <td>0.011246</td>\n",
       "      <td>0.340094</td>\n",
       "      <td>1.000000</td>\n",
       "      <td>0.025476</td>\n",
       "      <td>-0.007330</td>\n",
       "    </tr>\n",
       "    <tr>\n",
       "      <th>active</th>\n",
       "      <td>-0.009927</td>\n",
       "      <td>0.005866</td>\n",
       "      <td>-0.006570</td>\n",
       "      <td>-0.016867</td>\n",
       "      <td>-0.000033</td>\n",
       "      <td>0.004780</td>\n",
       "      <td>0.009911</td>\n",
       "      <td>-0.006770</td>\n",
       "      <td>0.025858</td>\n",
       "      <td>0.025476</td>\n",
       "      <td>1.000000</td>\n",
       "      <td>-0.035653</td>\n",
       "    </tr>\n",
       "    <tr>\n",
       "      <th>cardio</th>\n",
       "      <td>0.238159</td>\n",
       "      <td>0.008109</td>\n",
       "      <td>-0.010821</td>\n",
       "      <td>0.181660</td>\n",
       "      <td>0.054475</td>\n",
       "      <td>0.065719</td>\n",
       "      <td>0.221147</td>\n",
       "      <td>0.089307</td>\n",
       "      <td>-0.015486</td>\n",
       "      <td>-0.007330</td>\n",
       "      <td>-0.035653</td>\n",
       "      <td>1.000000</td>\n",
       "    </tr>\n",
       "  </tbody>\n",
       "</table>\n",
       "</div>"
      ],
      "text/plain": [
       "                  age    gender    height    weight     ap_hi     ap_lo  \\\n",
       "age          1.000000 -0.022811 -0.081515  0.053684  0.020764  0.017647   \n",
       "gender      -0.022811  1.000000  0.499033  0.155406  0.006005  0.015254   \n",
       "height      -0.081515  0.499033  1.000000  0.290968  0.005488  0.006150   \n",
       "weight       0.053684  0.155406  0.290968  1.000000  0.030702  0.043710   \n",
       "ap_hi        0.020764  0.006005  0.005488  0.030702  1.000000  0.016086   \n",
       "ap_lo        0.017647  0.015254  0.006150  0.043710  0.016086  1.000000   \n",
       "cholesterol  0.154424 -0.035821 -0.050226  0.141768  0.023778  0.024019   \n",
       "gluc         0.098703 -0.020491 -0.018595  0.106857  0.011841  0.010806   \n",
       "smoke       -0.047633  0.338135  0.187989  0.067780 -0.000922  0.005186   \n",
       "alco        -0.029723  0.170966  0.094419  0.067113  0.001408  0.010601   \n",
       "active      -0.009927  0.005866 -0.006570 -0.016867 -0.000033  0.004780   \n",
       "cardio       0.238159  0.008109 -0.010821  0.181660  0.054475  0.065719   \n",
       "\n",
       "             cholesterol      gluc     smoke      alco    active    cardio  \n",
       "age             0.154424  0.098703 -0.047633 -0.029723 -0.009927  0.238159  \n",
       "gender         -0.035821 -0.020491  0.338135  0.170966  0.005866  0.008109  \n",
       "height         -0.050226 -0.018595  0.187989  0.094419 -0.006570 -0.010821  \n",
       "weight          0.141768  0.106857  0.067780  0.067113 -0.016867  0.181660  \n",
       "ap_hi           0.023778  0.011841 -0.000922  0.001408 -0.000033  0.054475  \n",
       "ap_lo           0.024019  0.010806  0.005186  0.010601  0.004780  0.065719  \n",
       "cholesterol     1.000000  0.451578  0.010354  0.035760  0.009911  0.221147  \n",
       "gluc            0.451578  1.000000 -0.004756  0.011246 -0.006770  0.089307  \n",
       "smoke           0.010354 -0.004756  1.000000  0.340094  0.025858 -0.015486  \n",
       "alco            0.035760  0.011246  0.340094  1.000000  0.025476 -0.007330  \n",
       "active          0.009911 -0.006770  0.025858  0.025476  1.000000 -0.035653  \n",
       "cardio          0.221147  0.089307 -0.015486 -0.007330 -0.035653  1.000000  "
      ]
     },
     "execution_count": 11,
     "metadata": {},
     "output_type": "execute_result"
    }
   ],
   "source": [
    "#To find correlation matrix\n",
    "mydf[features].corr(method = 'pearson')"
   ]
  },
  {
   "cell_type": "code",
   "execution_count": 12,
   "metadata": {},
   "outputs": [],
   "source": [
    "# To split dataset into training and test sets\n",
    "features = ['age','gender','height','weight','ap_hi','ap_lo','cholesterol','gluc','smoke','alco','active']\n",
    "x_train, x_test, y_train, y_test = train_test_split(mydf[features], mydf['cardio'], test_size=0.20, random_state=1234)"
   ]
  },
  {
   "cell_type": "code",
   "execution_count": 13,
   "metadata": {},
   "outputs": [],
   "source": [
    "# To initialize the StandardScaler\n",
    "scaler = StandardScaler()"
   ]
  },
  {
   "cell_type": "code",
   "execution_count": 14,
   "metadata": {},
   "outputs": [],
   "source": [
    "# Apply StandardScaler for normal distribution\n",
    "x_train_std=scaler.fit_transform(x_train)\n",
    "x_test_std=scaler.transform(x_test)"
   ]
  },
  {
   "cell_type": "code",
   "execution_count": 15,
   "metadata": {},
   "outputs": [
    {
     "data": {
      "text/plain": [
       "(56000, 11)"
      ]
     },
     "execution_count": 15,
     "metadata": {},
     "output_type": "execute_result"
    }
   ],
   "source": [
    "# The training set contains 56000 samples with 11 features each.\n",
    "x_train.shape"
   ]
  },
  {
   "cell_type": "code",
   "execution_count": 16,
   "metadata": {},
   "outputs": [
    {
     "data": {
      "text/plain": [
       "(14000, 11)"
      ]
     },
     "execution_count": 16,
     "metadata": {},
     "output_type": "execute_result"
    }
   ],
   "source": [
    "# The testing set contains 14000 samples with 11 features each.\n",
    "x_test.shape"
   ]
  },
  {
   "cell_type": "code",
   "execution_count": 17,
   "metadata": {},
   "outputs": [
    {
     "data": {
      "text/plain": [
       "(70000, 13)"
      ]
     },
     "execution_count": 17,
     "metadata": {},
     "output_type": "execute_result"
    }
   ],
   "source": [
    "# The entire dataset contains 70000 samples with 13 features each.\n",
    "mydf.shape"
   ]
  },
  {
   "cell_type": "code",
   "execution_count": 18,
   "metadata": {},
   "outputs": [],
   "source": [
    "# DESİCİON TREE"
   ]
  },
  {
   "cell_type": "code",
   "execution_count": 19,
   "metadata": {},
   "outputs": [],
   "source": [
    "# Compare the scaler methods "
   ]
  },
  {
   "cell_type": "code",
   "execution_count": 20,
   "metadata": {},
   "outputs": [],
   "source": [
    "# No Scaler Methods"
   ]
  },
  {
   "cell_type": "code",
   "execution_count": 21,
   "metadata": {},
   "outputs": [],
   "source": [
    "# To split dataset into training and test sets\n",
    "features = ['age','gender','height','weight','ap_hi','ap_lo','cholesterol','gluc','smoke','alco','active']\n",
    "x_train_d_n, x_test_d_n, y_train_d_n, y_test_d_n = train_test_split(mydf[features], mydf['cardio'], test_size=0.20, random_state=1234)"
   ]
  },
  {
   "cell_type": "code",
   "execution_count": 22,
   "metadata": {},
   "outputs": [],
   "source": [
    "# To identify decision tree\n",
    "mytree=DecisionTreeClassifier(criterion=\"entropy\", max_depth=2, random_state=0)"
   ]
  },
  {
   "cell_type": "code",
   "execution_count": 23,
   "metadata": {},
   "outputs": [
    {
     "data": {
      "text/plain": [
       "DecisionTreeClassifier(criterion='entropy', max_depth=2, random_state=0)"
      ]
     },
     "execution_count": 23,
     "metadata": {},
     "output_type": "execute_result"
    }
   ],
   "source": [
    "# To train the decision tree with training data\n",
    "mytree.fit(x_train_d_n, y_train_d_n)"
   ]
  },
  {
   "cell_type": "code",
   "execution_count": 24,
   "metadata": {},
   "outputs": [],
   "source": [
    "# To make predictions for test data\n",
    "y_predict_d_n = mytree.predict(x_test_d_n)"
   ]
  },
  {
   "cell_type": "code",
   "execution_count": 25,
   "metadata": {},
   "outputs": [
    {
     "data": {
      "text/plain": [
       "array([0, 0, 1, ..., 1, 0, 1], dtype=int64)"
      ]
     },
     "execution_count": 25,
     "metadata": {},
     "output_type": "execute_result"
    }
   ],
   "source": [
    "y_predict_d_n"
   ]
  },
  {
   "cell_type": "code",
   "execution_count": 26,
   "metadata": {},
   "outputs": [
    {
     "name": "stdout",
     "output_type": "stream",
     "text": [
      "              precision    recall  f1-score   support\n",
      "\n",
      "           0       0.69      0.80      0.74      7110\n",
      "           1       0.75      0.63      0.68      6890\n",
      "\n",
      "    accuracy                           0.71     14000\n",
      "   macro avg       0.72      0.71      0.71     14000\n",
      "weighted avg       0.72      0.71      0.71     14000\n",
      "\n"
     ]
    }
   ],
   "source": [
    "# To print classification report\n",
    "print(classification_report(y_test_d_n, mytree.predict(x_test_d_n)))"
   ]
  },
  {
   "cell_type": "code",
   "execution_count": 27,
   "metadata": {
    "scrolled": true
   },
   "outputs": [
    {
     "name": "stdout",
     "output_type": "stream",
     "text": [
      "Accuracy: 0.7135\n",
      "Precision: 0.7135\n",
      "Recall: 0.7135\n",
      "F1 Score: 0.7135\n",
      "Fβ Score: 0.7135\n"
     ]
    }
   ],
   "source": [
    "# To calculate performance\n",
    "accuracy_score_d_n = accuracy_score(y_test_d_n, y_predict_d_n)\n",
    "precision_score_d_n = precision_score(y_test_d_n, y_predict_d_n, average =\"micro\")\n",
    "recall_score_d_n = recall_score(y_test_d_n, y_predict_d_n, average=\"micro\")\n",
    "f1_score_d_n = f1_score(y_test_d_n, y_predict_d_n, average=\"micro\")\n",
    "fbeta_score_d_n = fbeta_score(y_test_d_n, y_predict_d_n, beta=2, average=\"micro\")\n",
    "\n",
    "# To write performance\n",
    "print(f'Accuracy: {accuracy_score_d_n}')\n",
    "print(f'Precision: {precision_score_d_n}')\n",
    "print(f'Recall: {recall_score_d_n}')\n",
    "print(f'F1 Score: {f1_score_d_n}')\n",
    "print(f'Fβ Score: {fbeta_score_d_n}')"
   ]
  },
  {
   "cell_type": "code",
   "execution_count": 28,
   "metadata": {},
   "outputs": [],
   "source": [
    "# MinMaxScaler Method"
   ]
  },
  {
   "cell_type": "code",
   "execution_count": 29,
   "metadata": {},
   "outputs": [],
   "source": [
    "# To split dataset into training and test sets\n",
    "features = ['age','gender','height','weight','ap_hi','ap_lo','cholesterol','gluc','smoke','alco','active']\n",
    "x_train_d_m, x_test_d_m, y_train_d_m, y_test_d_m = train_test_split(mydf[features], mydf['cardio'], test_size=0.20, random_state=1234)"
   ]
  },
  {
   "cell_type": "code",
   "execution_count": 30,
   "metadata": {},
   "outputs": [],
   "source": [
    "# To initialize the MinMaxScaler\n",
    "scale = MinMaxScaler()"
   ]
  },
  {
   "cell_type": "code",
   "execution_count": 31,
   "metadata": {},
   "outputs": [],
   "source": [
    "# Apply MinMaxScaler for normal distribution\n",
    "x_train_d_m_std=scale.fit_transform(x_train_d_m)\n",
    "x_test_d_m_std=scale.transform(x_test_d_m)"
   ]
  },
  {
   "cell_type": "code",
   "execution_count": 32,
   "metadata": {},
   "outputs": [],
   "source": [
    "# To identify decision tree\n",
    "mytree=DecisionTreeClassifier(criterion=\"entropy\", max_depth=2, random_state=0)"
   ]
  },
  {
   "cell_type": "code",
   "execution_count": 33,
   "metadata": {},
   "outputs": [
    {
     "data": {
      "text/plain": [
       "DecisionTreeClassifier(criterion='entropy', max_depth=2, random_state=0)"
      ]
     },
     "execution_count": 33,
     "metadata": {},
     "output_type": "execute_result"
    }
   ],
   "source": [
    "# To train the decision tree with training data\n",
    "mytree.fit(x_train_d_m_std, y_train_d_m)"
   ]
  },
  {
   "cell_type": "code",
   "execution_count": 34,
   "metadata": {},
   "outputs": [],
   "source": [
    "# To make predictions for test data\n",
    "y_predict_d_m = mytree.predict(x_test_d_m_std)"
   ]
  },
  {
   "cell_type": "code",
   "execution_count": 35,
   "metadata": {},
   "outputs": [
    {
     "data": {
      "text/plain": [
       "array([0, 0, 1, ..., 1, 0, 1], dtype=int64)"
      ]
     },
     "execution_count": 35,
     "metadata": {},
     "output_type": "execute_result"
    }
   ],
   "source": [
    "y_predict_d_m"
   ]
  },
  {
   "cell_type": "code",
   "execution_count": 36,
   "metadata": {},
   "outputs": [
    {
     "name": "stdout",
     "output_type": "stream",
     "text": [
      "              precision    recall  f1-score   support\n",
      "\n",
      "           0       0.69      0.80      0.74      7110\n",
      "           1       0.75      0.63      0.68      6890\n",
      "\n",
      "    accuracy                           0.71     14000\n",
      "   macro avg       0.72      0.71      0.71     14000\n",
      "weighted avg       0.72      0.71      0.71     14000\n",
      "\n"
     ]
    }
   ],
   "source": [
    "# To print classification report\n",
    "print(classification_report(y_test_d_m, mytree.predict(x_test_d_m_std)))"
   ]
  },
  {
   "cell_type": "code",
   "execution_count": 37,
   "metadata": {
    "scrolled": true
   },
   "outputs": [
    {
     "name": "stdout",
     "output_type": "stream",
     "text": [
      "Accuracy: 0.7135\n",
      "Precision: 0.7135\n",
      "Recall: 0.7135\n",
      "F1 Score: 0.7135\n",
      "Fβ Score: 0.7135\n"
     ]
    }
   ],
   "source": [
    "# To calculate performance\n",
    "accuracy_score_d_m = accuracy_score(y_test_d_m, y_predict_d_m)\n",
    "precision_score_d_m = precision_score(y_test_d_m, y_predict_d_m, average =\"micro\")\n",
    "recall_score_d_m = recall_score(y_test_d_m, y_predict_d_m, average=\"micro\")\n",
    "f1_score_d_m = f1_score(y_test_d_m, y_predict_d_m, average=\"micro\")\n",
    "fbeta_score_d_m = fbeta_score(y_test_d_m, y_predict_d_m, beta=2, average=\"micro\")\n",
    "\n",
    "# To write performance\n",
    "print(f'Accuracy: {accuracy_score_d_m}')\n",
    "print(f'Precision: {precision_score_d_m}')\n",
    "print(f'Recall: {recall_score_d_m}')\n",
    "print(f'F1 Score: {f1_score_d_m}')\n",
    "print(f'Fβ Score: {fbeta_score_d_m}')"
   ]
  },
  {
   "cell_type": "code",
   "execution_count": 38,
   "metadata": {},
   "outputs": [],
   "source": [
    "# StandardScaler Method"
   ]
  },
  {
   "cell_type": "code",
   "execution_count": 39,
   "metadata": {},
   "outputs": [],
   "source": [
    "# To split dataset into training and test sets\n",
    "features = ['age','gender','height','weight','ap_hi','ap_lo','cholesterol','gluc','smoke','alco','active']\n",
    "x_train_d, x_test_d, y_train_d, y_test_d = train_test_split(mydf[features], mydf['cardio'], test_size=0.20, random_state=1234)"
   ]
  },
  {
   "cell_type": "code",
   "execution_count": 40,
   "metadata": {},
   "outputs": [],
   "source": [
    "# To initialize the StandardScaler\n",
    "scaler = StandardScaler()"
   ]
  },
  {
   "cell_type": "code",
   "execution_count": 41,
   "metadata": {},
   "outputs": [],
   "source": [
    "# Apply MinMaxScaler for normal distribution\n",
    "x_train_d_std=scaler.fit_transform(x_train_d)\n",
    "x_test_d_std=scaler.transform(x_test_d)"
   ]
  },
  {
   "cell_type": "code",
   "execution_count": 42,
   "metadata": {},
   "outputs": [],
   "source": [
    "# To identify decision tree\n",
    "mytree=DecisionTreeClassifier(criterion=\"entropy\", max_depth=2, random_state=0)"
   ]
  },
  {
   "cell_type": "code",
   "execution_count": 43,
   "metadata": {
    "scrolled": true
   },
   "outputs": [
    {
     "data": {
      "text/plain": [
       "DecisionTreeClassifier(criterion='entropy', max_depth=2, random_state=0)"
      ]
     },
     "execution_count": 43,
     "metadata": {},
     "output_type": "execute_result"
    }
   ],
   "source": [
    "# To train the decision tree with training data\n",
    "mytree.fit(x_train_d_std, y_train_d)"
   ]
  },
  {
   "cell_type": "code",
   "execution_count": 44,
   "metadata": {},
   "outputs": [],
   "source": [
    "# To make predictions for test data\n",
    "y_predict_d = mytree.predict(x_test_d_std)"
   ]
  },
  {
   "cell_type": "code",
   "execution_count": 45,
   "metadata": {},
   "outputs": [
    {
     "data": {
      "text/plain": [
       "array([0, 0, 1, ..., 1, 0, 1], dtype=int64)"
      ]
     },
     "execution_count": 45,
     "metadata": {},
     "output_type": "execute_result"
    }
   ],
   "source": [
    "y_predict_d"
   ]
  },
  {
   "cell_type": "code",
   "execution_count": 46,
   "metadata": {},
   "outputs": [
    {
     "name": "stdout",
     "output_type": "stream",
     "text": [
      "              precision    recall  f1-score   support\n",
      "\n",
      "           0       0.69      0.80      0.74      7110\n",
      "           1       0.75      0.63      0.68      6890\n",
      "\n",
      "    accuracy                           0.71     14000\n",
      "   macro avg       0.72      0.71      0.71     14000\n",
      "weighted avg       0.72      0.71      0.71     14000\n",
      "\n"
     ]
    }
   ],
   "source": [
    "# To print classification report\n",
    "print(classification_report(y_test_d, mytree.predict(x_test_d_std)))"
   ]
  },
  {
   "cell_type": "code",
   "execution_count": 47,
   "metadata": {
    "scrolled": true
   },
   "outputs": [
    {
     "name": "stdout",
     "output_type": "stream",
     "text": [
      "Accuracy: 0.7135\n",
      "Precision: 0.7135\n",
      "Recall: 0.7135\n",
      "F1 Score: 0.7135\n",
      "Fβ Score: 0.7135\n"
     ]
    }
   ],
   "source": [
    "# To calculate performance\n",
    "accuracy_score_d = accuracy_score(y_test_d, y_predict_d)\n",
    "precision_score_d = precision_score(y_test_d, y_predict_d, average =\"micro\")\n",
    "recall_score_d = recall_score(y_test_d, y_predict_d, average=\"micro\")\n",
    "f1_score_d = f1_score(y_test_d, y_predict_d, average=\"micro\")\n",
    "fbeta_score_d = fbeta_score(y_test_d, y_predict_d, beta=2, average=\"micro\")\n",
    "\n",
    "# To write performance\n",
    "print(f'Accuracy: {accuracy_score_d}')\n",
    "print(f'Precision: {precision_score_d}')\n",
    "print(f'Recall: {recall_score_d}')\n",
    "print(f'F1 Score: {f1_score_d}')\n",
    "print(\"Fβ Score:\", fbeta_score_d)"
   ]
  },
  {
   "cell_type": "code",
   "execution_count": 48,
   "metadata": {},
   "outputs": [
    {
     "data": {
      "image/png": "[encoded data removed]",
      "text/plain": [
       "<Figure size 720x432 with 1 Axes>"
      ]
     },
     "metadata": {
      "needs_background": "light"
     },
     "output_type": "display_data"
    }
   ],
   "source": [
    "# To create a bar graph to compare the performance of the scaling methods\n",
    "performance = {\n",
    "    'Measure': ['Accuracy', 'Precision', 'Recall', 'F1 Score', 'Fβ Score'],\n",
    "    'Non-Scaler': [accuracy_score_d_n, precision_score_d_n,recall_score_d_n, f1_score_d_n, fbeta_score_d_n],\n",
    "    'MinMaxScaler': [accuracy_score_d_m, precision_score_d_m,recall_score_d_m, f1_score_d_m, fbeta_score_d_m],\n",
    "    'StandardScaler': [accuracy_score_d, precision_score_d,recall_score_d, f1_score_d, fbeta_score_d]\n",
    "}\n",
    "\n",
    "\n",
    "df_performance = pd.DataFrame(performance)\n",
    "df_performance.set_index('Measure', inplace=True)\n",
    "ax = df_performance.plot(kind='bar', figsize=(10, 6))\n",
    "ax.set_ylabel('Score')\n",
    "ax.set_title('Scaling Methods Performance Measure Comparison')\n",
    "\n",
    "plt.show()"
   ]
  },
  {
   "cell_type": "code",
   "execution_count": 49,
   "metadata": {},
   "outputs": [],
   "source": [
    "#To identify different parameters to be tried in the model\n",
    "grid_params_d = {\n",
    "    \"max_depth\": [3, 4, 5, 6, 7],\n",
    "    \"min_samples_leaf\": [4, 8, 12, 16]\n",
    "}\n",
    "\n",
    "# To create the model and setting its parameter\n",
    "grid_search_d = GridSearchCV(mytree, grid_params_d, verbose=1, scoring=\"f1\", cv=5, n_jobs=-1)"
   ]
  },
  {
   "cell_type": "code",
   "execution_count": 50,
   "metadata": {},
   "outputs": [
    {
     "data": {
      "text/plain": [
       "GridSearchCV(cv=5,\n",
       "             estimator=DecisionTreeClassifier(criterion='entropy', max_depth=2,\n",
       "                                              random_state=0),\n",
       "             n_jobs=-1,\n",
       "             param_grid={'max_depth': [3, 4, 5, 6, 7],\n",
       "                         'min_samples_leaf': [4, 8, 12, 16]},\n",
       "             scoring='f1', verbose=1)"
      ]
     },
     "execution_count": 50,
     "metadata": {},
     "output_type": "execute_result"
    }
   ],
   "source": [
    "# It aims to find the best parameters among the options given for the model and to evaluate the performance of the model.\n",
    "grid_search_d"
   ]
  },
  {
   "cell_type": "code",
   "execution_count": 51,
   "metadata": {},
   "outputs": [
    {
     "name": "stdout",
     "output_type": "stream",
     "text": [
      "Fitting 5 folds for each of 20 candidates, totalling 100 fits\n"
     ]
    },
    {
     "name": "stderr",
     "output_type": "stream",
     "text": [
      "[Parallel(n_jobs=-1)]: Using backend LokyBackend with 12 concurrent workers.\n",
      "[Parallel(n_jobs=-1)]: Done  26 tasks      | elapsed:    2.4s\n",
      "[Parallel(n_jobs=-1)]: Done 100 out of 100 | elapsed:    3.4s finished\n"
     ]
    },
    {
     "data": {
      "text/plain": [
       "GridSearchCV(cv=5,\n",
       "             estimator=DecisionTreeClassifier(criterion='entropy', max_depth=2,\n",
       "                                              random_state=0),\n",
       "             n_jobs=-1,\n",
       "             param_grid={'max_depth': [3, 4, 5, 6, 7],\n",
       "                         'min_samples_leaf': [4, 8, 12, 16]},\n",
       "             scoring='f1', verbose=1)"
      ]
     },
     "execution_count": 51,
     "metadata": {},
     "output_type": "execute_result"
    }
   ],
   "source": [
    "# To train the grid search with training data\n",
    "grid_search_d.fit(x_train_d_std,y_train_d)"
   ]
  },
  {
   "cell_type": "code",
   "execution_count": 52,
   "metadata": {},
   "outputs": [
    {
     "data": {
      "text/html": [
       "<div>\n",
       "<style scoped>\n",
       "    .dataframe tbody tr th:only-of-type {\n",
       "        vertical-align: middle;\n",
       "    }\n",
       "\n",
       "    .dataframe tbody tr th {\n",
       "        vertical-align: top;\n",
       "    }\n",
       "\n",
       "    .dataframe thead th {\n",
       "        text-align: right;\n",
       "    }\n",
       "</style>\n",
       "<table border=\"1\" class=\"dataframe\">\n",
       "  <thead>\n",
       "    <tr style=\"text-align: right;\">\n",
       "      <th></th>\n",
       "      <th>mean_fit_time</th>\n",
       "      <th>std_fit_time</th>\n",
       "      <th>mean_score_time</th>\n",
       "      <th>std_score_time</th>\n",
       "      <th>param_max_depth</th>\n",
       "      <th>param_min_samples_leaf</th>\n",
       "      <th>params</th>\n",
       "      <th>split0_test_score</th>\n",
       "      <th>split1_test_score</th>\n",
       "      <th>split2_test_score</th>\n",
       "      <th>split3_test_score</th>\n",
       "      <th>split4_test_score</th>\n",
       "      <th>mean_test_score</th>\n",
       "      <th>std_test_score</th>\n",
       "      <th>rank_test_score</th>\n",
       "    </tr>\n",
       "  </thead>\n",
       "  <tbody>\n",
       "    <tr>\n",
       "      <th>0</th>\n",
       "      <td>0.093928</td>\n",
       "      <td>0.010250</td>\n",
       "      <td>0.006402</td>\n",
       "      <td>0.000489</td>\n",
       "      <td>3</td>\n",
       "      <td>4</td>\n",
       "      <td>{'max_depth': 3, 'min_samples_leaf': 4}</td>\n",
       "      <td>0.709454</td>\n",
       "      <td>0.716471</td>\n",
       "      <td>0.710876</td>\n",
       "      <td>0.713304</td>\n",
       "      <td>0.707537</td>\n",
       "      <td>0.711528</td>\n",
       "      <td>0.003106</td>\n",
       "      <td>17</td>\n",
       "    </tr>\n",
       "    <tr>\n",
       "      <th>1</th>\n",
       "      <td>0.107127</td>\n",
       "      <td>0.007237</td>\n",
       "      <td>0.008730</td>\n",
       "      <td>0.003674</td>\n",
       "      <td>3</td>\n",
       "      <td>8</td>\n",
       "      <td>{'max_depth': 3, 'min_samples_leaf': 8}</td>\n",
       "      <td>0.709454</td>\n",
       "      <td>0.716471</td>\n",
       "      <td>0.710876</td>\n",
       "      <td>0.713304</td>\n",
       "      <td>0.707537</td>\n",
       "      <td>0.711528</td>\n",
       "      <td>0.003106</td>\n",
       "      <td>17</td>\n",
       "    </tr>\n",
       "    <tr>\n",
       "      <th>2</th>\n",
       "      <td>0.096698</td>\n",
       "      <td>0.005827</td>\n",
       "      <td>0.006401</td>\n",
       "      <td>0.000493</td>\n",
       "      <td>3</td>\n",
       "      <td>12</td>\n",
       "      <td>{'max_depth': 3, 'min_samples_leaf': 12}</td>\n",
       "      <td>0.709454</td>\n",
       "      <td>0.716471</td>\n",
       "      <td>0.710876</td>\n",
       "      <td>0.713304</td>\n",
       "      <td>0.707537</td>\n",
       "      <td>0.711528</td>\n",
       "      <td>0.003106</td>\n",
       "      <td>17</td>\n",
       "    </tr>\n",
       "    <tr>\n",
       "      <th>3</th>\n",
       "      <td>0.110308</td>\n",
       "      <td>0.010025</td>\n",
       "      <td>0.005998</td>\n",
       "      <td>0.000632</td>\n",
       "      <td>3</td>\n",
       "      <td>16</td>\n",
       "      <td>{'max_depth': 3, 'min_samples_leaf': 16}</td>\n",
       "      <td>0.709454</td>\n",
       "      <td>0.716471</td>\n",
       "      <td>0.710876</td>\n",
       "      <td>0.713304</td>\n",
       "      <td>0.707537</td>\n",
       "      <td>0.711528</td>\n",
       "      <td>0.003106</td>\n",
       "      <td>17</td>\n",
       "    </tr>\n",
       "    <tr>\n",
       "      <th>4</th>\n",
       "      <td>0.143904</td>\n",
       "      <td>0.023911</td>\n",
       "      <td>0.008400</td>\n",
       "      <td>0.003824</td>\n",
       "      <td>4</td>\n",
       "      <td>4</td>\n",
       "      <td>{'max_depth': 4, 'min_samples_leaf': 4}</td>\n",
       "      <td>0.727972</td>\n",
       "      <td>0.731501</td>\n",
       "      <td>0.725769</td>\n",
       "      <td>0.731224</td>\n",
       "      <td>0.726655</td>\n",
       "      <td>0.728624</td>\n",
       "      <td>0.002345</td>\n",
       "      <td>1</td>\n",
       "    </tr>\n",
       "    <tr>\n",
       "      <th>5</th>\n",
       "      <td>0.131314</td>\n",
       "      <td>0.014543</td>\n",
       "      <td>0.006399</td>\n",
       "      <td>0.000490</td>\n",
       "      <td>4</td>\n",
       "      <td>8</td>\n",
       "      <td>{'max_depth': 4, 'min_samples_leaf': 8}</td>\n",
       "      <td>0.727972</td>\n",
       "      <td>0.731501</td>\n",
       "      <td>0.725769</td>\n",
       "      <td>0.731224</td>\n",
       "      <td>0.726655</td>\n",
       "      <td>0.728624</td>\n",
       "      <td>0.002345</td>\n",
       "      <td>1</td>\n",
       "    </tr>\n",
       "    <tr>\n",
       "      <th>6</th>\n",
       "      <td>0.122223</td>\n",
       "      <td>0.008596</td>\n",
       "      <td>0.007402</td>\n",
       "      <td>0.001356</td>\n",
       "      <td>4</td>\n",
       "      <td>12</td>\n",
       "      <td>{'max_depth': 4, 'min_samples_leaf': 12}</td>\n",
       "      <td>0.727972</td>\n",
       "      <td>0.731501</td>\n",
       "      <td>0.725769</td>\n",
       "      <td>0.731224</td>\n",
       "      <td>0.726655</td>\n",
       "      <td>0.728624</td>\n",
       "      <td>0.002345</td>\n",
       "      <td>1</td>\n",
       "    </tr>\n",
       "    <tr>\n",
       "      <th>7</th>\n",
       "      <td>0.135129</td>\n",
       "      <td>0.009331</td>\n",
       "      <td>0.007801</td>\n",
       "      <td>0.003599</td>\n",
       "      <td>4</td>\n",
       "      <td>16</td>\n",
       "      <td>{'max_depth': 4, 'min_samples_leaf': 16}</td>\n",
       "      <td>0.727972</td>\n",
       "      <td>0.731501</td>\n",
       "      <td>0.725769</td>\n",
       "      <td>0.731224</td>\n",
       "      <td>0.726655</td>\n",
       "      <td>0.728624</td>\n",
       "      <td>0.002345</td>\n",
       "      <td>1</td>\n",
       "    </tr>\n",
       "    <tr>\n",
       "      <th>8</th>\n",
       "      <td>0.147389</td>\n",
       "      <td>0.014356</td>\n",
       "      <td>0.006329</td>\n",
       "      <td>0.000422</td>\n",
       "      <td>5</td>\n",
       "      <td>4</td>\n",
       "      <td>{'max_depth': 5, 'min_samples_leaf': 4}</td>\n",
       "      <td>0.713745</td>\n",
       "      <td>0.717379</td>\n",
       "      <td>0.711119</td>\n",
       "      <td>0.720425</td>\n",
       "      <td>0.713868</td>\n",
       "      <td>0.715307</td>\n",
       "      <td>0.003241</td>\n",
       "      <td>13</td>\n",
       "    </tr>\n",
       "    <tr>\n",
       "      <th>9</th>\n",
       "      <td>0.151383</td>\n",
       "      <td>0.016601</td>\n",
       "      <td>0.006510</td>\n",
       "      <td>0.000446</td>\n",
       "      <td>5</td>\n",
       "      <td>8</td>\n",
       "      <td>{'max_depth': 5, 'min_samples_leaf': 8}</td>\n",
       "      <td>0.713745</td>\n",
       "      <td>0.717379</td>\n",
       "      <td>0.711119</td>\n",
       "      <td>0.720425</td>\n",
       "      <td>0.713868</td>\n",
       "      <td>0.715307</td>\n",
       "      <td>0.003241</td>\n",
       "      <td>13</td>\n",
       "    </tr>\n",
       "    <tr>\n",
       "      <th>10</th>\n",
       "      <td>0.160774</td>\n",
       "      <td>0.017934</td>\n",
       "      <td>0.006707</td>\n",
       "      <td>0.000395</td>\n",
       "      <td>5</td>\n",
       "      <td>12</td>\n",
       "      <td>{'max_depth': 5, 'min_samples_leaf': 12}</td>\n",
       "      <td>0.713745</td>\n",
       "      <td>0.717379</td>\n",
       "      <td>0.710756</td>\n",
       "      <td>0.720425</td>\n",
       "      <td>0.713746</td>\n",
       "      <td>0.715210</td>\n",
       "      <td>0.003347</td>\n",
       "      <td>15</td>\n",
       "    </tr>\n",
       "    <tr>\n",
       "      <th>11</th>\n",
       "      <td>0.148358</td>\n",
       "      <td>0.013015</td>\n",
       "      <td>0.006601</td>\n",
       "      <td>0.000490</td>\n",
       "      <td>5</td>\n",
       "      <td>16</td>\n",
       "      <td>{'max_depth': 5, 'min_samples_leaf': 16}</td>\n",
       "      <td>0.713745</td>\n",
       "      <td>0.716615</td>\n",
       "      <td>0.710756</td>\n",
       "      <td>0.720425</td>\n",
       "      <td>0.713746</td>\n",
       "      <td>0.715057</td>\n",
       "      <td>0.003261</td>\n",
       "      <td>16</td>\n",
       "    </tr>\n",
       "    <tr>\n",
       "      <th>12</th>\n",
       "      <td>0.170094</td>\n",
       "      <td>0.019280</td>\n",
       "      <td>0.006200</td>\n",
       "      <td>0.000399</td>\n",
       "      <td>6</td>\n",
       "      <td>4</td>\n",
       "      <td>{'max_depth': 6, 'min_samples_leaf': 4}</td>\n",
       "      <td>0.711449</td>\n",
       "      <td>0.716506</td>\n",
       "      <td>0.706994</td>\n",
       "      <td>0.719155</td>\n",
       "      <td>0.726455</td>\n",
       "      <td>0.716112</td>\n",
       "      <td>0.006653</td>\n",
       "      <td>10</td>\n",
       "    </tr>\n",
       "    <tr>\n",
       "      <th>13</th>\n",
       "      <td>0.162097</td>\n",
       "      <td>0.015118</td>\n",
       "      <td>0.006799</td>\n",
       "      <td>0.000748</td>\n",
       "      <td>6</td>\n",
       "      <td>8</td>\n",
       "      <td>{'max_depth': 6, 'min_samples_leaf': 8}</td>\n",
       "      <td>0.711436</td>\n",
       "      <td>0.716506</td>\n",
       "      <td>0.707050</td>\n",
       "      <td>0.719170</td>\n",
       "      <td>0.726258</td>\n",
       "      <td>0.716084</td>\n",
       "      <td>0.006579</td>\n",
       "      <td>12</td>\n",
       "    </tr>\n",
       "    <tr>\n",
       "      <th>14</th>\n",
       "      <td>0.172177</td>\n",
       "      <td>0.024198</td>\n",
       "      <td>0.007000</td>\n",
       "      <td>0.001550</td>\n",
       "      <td>6</td>\n",
       "      <td>12</td>\n",
       "      <td>{'max_depth': 6, 'min_samples_leaf': 12}</td>\n",
       "      <td>0.711491</td>\n",
       "      <td>0.716452</td>\n",
       "      <td>0.707240</td>\n",
       "      <td>0.719223</td>\n",
       "      <td>0.726143</td>\n",
       "      <td>0.716110</td>\n",
       "      <td>0.006488</td>\n",
       "      <td>11</td>\n",
       "    </tr>\n",
       "    <tr>\n",
       "      <th>15</th>\n",
       "      <td>0.156194</td>\n",
       "      <td>0.008820</td>\n",
       "      <td>0.006201</td>\n",
       "      <td>0.000401</td>\n",
       "      <td>6</td>\n",
       "      <td>16</td>\n",
       "      <td>{'max_depth': 6, 'min_samples_leaf': 16}</td>\n",
       "      <td>0.711694</td>\n",
       "      <td>0.716938</td>\n",
       "      <td>0.707061</td>\n",
       "      <td>0.719292</td>\n",
       "      <td>0.726438</td>\n",
       "      <td>0.716285</td>\n",
       "      <td>0.006614</td>\n",
       "      <td>9</td>\n",
       "    </tr>\n",
       "    <tr>\n",
       "      <th>16</th>\n",
       "      <td>0.167598</td>\n",
       "      <td>0.005426</td>\n",
       "      <td>0.006201</td>\n",
       "      <td>0.000750</td>\n",
       "      <td>7</td>\n",
       "      <td>4</td>\n",
       "      <td>{'max_depth': 7, 'min_samples_leaf': 4}</td>\n",
       "      <td>0.718292</td>\n",
       "      <td>0.734019</td>\n",
       "      <td>0.707395</td>\n",
       "      <td>0.717215</td>\n",
       "      <td>0.716038</td>\n",
       "      <td>0.718592</td>\n",
       "      <td>0.008624</td>\n",
       "      <td>8</td>\n",
       "    </tr>\n",
       "    <tr>\n",
       "      <th>17</th>\n",
       "      <td>0.165600</td>\n",
       "      <td>0.003720</td>\n",
       "      <td>0.006198</td>\n",
       "      <td>0.000401</td>\n",
       "      <td>7</td>\n",
       "      <td>8</td>\n",
       "      <td>{'max_depth': 7, 'min_samples_leaf': 8}</td>\n",
       "      <td>0.719822</td>\n",
       "      <td>0.733351</td>\n",
       "      <td>0.708294</td>\n",
       "      <td>0.717729</td>\n",
       "      <td>0.716619</td>\n",
       "      <td>0.719163</td>\n",
       "      <td>0.008104</td>\n",
       "      <td>6</td>\n",
       "    </tr>\n",
       "    <tr>\n",
       "      <th>18</th>\n",
       "      <td>0.177596</td>\n",
       "      <td>0.018193</td>\n",
       "      <td>0.006000</td>\n",
       "      <td>0.000001</td>\n",
       "      <td>7</td>\n",
       "      <td>12</td>\n",
       "      <td>{'max_depth': 7, 'min_samples_leaf': 12}</td>\n",
       "      <td>0.719755</td>\n",
       "      <td>0.733435</td>\n",
       "      <td>0.709312</td>\n",
       "      <td>0.716931</td>\n",
       "      <td>0.716001</td>\n",
       "      <td>0.719087</td>\n",
       "      <td>0.007950</td>\n",
       "      <td>7</td>\n",
       "    </tr>\n",
       "    <tr>\n",
       "      <th>19</th>\n",
       "      <td>0.128197</td>\n",
       "      <td>0.012351</td>\n",
       "      <td>0.005000</td>\n",
       "      <td>0.000895</td>\n",
       "      <td>7</td>\n",
       "      <td>16</td>\n",
       "      <td>{'max_depth': 7, 'min_samples_leaf': 16}</td>\n",
       "      <td>0.720719</td>\n",
       "      <td>0.733935</td>\n",
       "      <td>0.708065</td>\n",
       "      <td>0.717958</td>\n",
       "      <td>0.717229</td>\n",
       "      <td>0.719581</td>\n",
       "      <td>0.008344</td>\n",
       "      <td>5</td>\n",
       "    </tr>\n",
       "  </tbody>\n",
       "</table>\n",
       "</div>"
      ],
      "text/plain": [
       "    mean_fit_time  std_fit_time  mean_score_time  std_score_time  \\\n",
       "0        0.093928      0.010250         0.006402        0.000489   \n",
       "1        0.107127      0.007237         0.008730        0.003674   \n",
       "2        0.096698      0.005827         0.006401        0.000493   \n",
       "3        0.110308      0.010025         0.005998        0.000632   \n",
       "4        0.143904      0.023911         0.008400        0.003824   \n",
       "5        0.131314      0.014543         0.006399        0.000490   \n",
       "6        0.122223      0.008596         0.007402        0.001356   \n",
       "7        0.135129      0.009331         0.007801        0.003599   \n",
       "8        0.147389      0.014356         0.006329        0.000422   \n",
       "9        0.151383      0.016601         0.006510        0.000446   \n",
       "10       0.160774      0.017934         0.006707        0.000395   \n",
       "11       0.148358      0.013015         0.006601        0.000490   \n",
       "12       0.170094      0.019280         0.006200        0.000399   \n",
       "13       0.162097      0.015118         0.006799        0.000748   \n",
       "14       0.172177      0.024198         0.007000        0.001550   \n",
       "15       0.156194      0.008820         0.006201        0.000401   \n",
       "16       0.167598      0.005426         0.006201        0.000750   \n",
       "17       0.165600      0.003720         0.006198        0.000401   \n",
       "18       0.177596      0.018193         0.006000        0.000001   \n",
       "19       0.128197      0.012351         0.005000        0.000895   \n",
       "\n",
       "   param_max_depth param_min_samples_leaf  \\\n",
       "0                3                      4   \n",
       "1                3                      8   \n",
       "2                3                     12   \n",
       "3                3                     16   \n",
       "4                4                      4   \n",
       "5                4                      8   \n",
       "6                4                     12   \n",
       "7                4                     16   \n",
       "8                5                      4   \n",
       "9                5                      8   \n",
       "10               5                     12   \n",
       "11               5                     16   \n",
       "12               6                      4   \n",
       "13               6                      8   \n",
       "14               6                     12   \n",
       "15               6                     16   \n",
       "16               7                      4   \n",
       "17               7                      8   \n",
       "18               7                     12   \n",
       "19               7                     16   \n",
       "\n",
       "                                      params  split0_test_score  \\\n",
       "0    {'max_depth': 3, 'min_samples_leaf': 4}           0.709454   \n",
       "1    {'max_depth': 3, 'min_samples_leaf': 8}           0.709454   \n",
       "2   {'max_depth': 3, 'min_samples_leaf': 12}           0.709454   \n",
       "3   {'max_depth': 3, 'min_samples_leaf': 16}           0.709454   \n",
       "4    {'max_depth': 4, 'min_samples_leaf': 4}           0.727972   \n",
       "5    {'max_depth': 4, 'min_samples_leaf': 8}           0.727972   \n",
       "6   {'max_depth': 4, 'min_samples_leaf': 12}           0.727972   \n",
       "7   {'max_depth': 4, 'min_samples_leaf': 16}           0.727972   \n",
       "8    {'max_depth': 5, 'min_samples_leaf': 4}           0.713745   \n",
       "9    {'max_depth': 5, 'min_samples_leaf': 8}           0.713745   \n",
       "10  {'max_depth': 5, 'min_samples_leaf': 12}           0.713745   \n",
       "11  {'max_depth': 5, 'min_samples_leaf': 16}           0.713745   \n",
       "12   {'max_depth': 6, 'min_samples_leaf': 4}           0.711449   \n",
       "13   {'max_depth': 6, 'min_samples_leaf': 8}           0.711436   \n",
       "14  {'max_depth': 6, 'min_samples_leaf': 12}           0.711491   \n",
       "15  {'max_depth': 6, 'min_samples_leaf': 16}           0.711694   \n",
       "16   {'max_depth': 7, 'min_samples_leaf': 4}           0.718292   \n",
       "17   {'max_depth': 7, 'min_samples_leaf': 8}           0.719822   \n",
       "18  {'max_depth': 7, 'min_samples_leaf': 12}           0.719755   \n",
       "19  {'max_depth': 7, 'min_samples_leaf': 16}           0.720719   \n",
       "\n",
       "    split1_test_score  split2_test_score  split3_test_score  \\\n",
       "0            0.716471           0.710876           0.713304   \n",
       "1            0.716471           0.710876           0.713304   \n",
       "2            0.716471           0.710876           0.713304   \n",
       "3            0.716471           0.710876           0.713304   \n",
       "4            0.731501           0.725769           0.731224   \n",
       "5            0.731501           0.725769           0.731224   \n",
       "6            0.731501           0.725769           0.731224   \n",
       "7            0.731501           0.725769           0.731224   \n",
       "8            0.717379           0.711119           0.720425   \n",
       "9            0.717379           0.711119           0.720425   \n",
       "10           0.717379           0.710756           0.720425   \n",
       "11           0.716615           0.710756           0.720425   \n",
       "12           0.716506           0.706994           0.719155   \n",
       "13           0.716506           0.707050           0.719170   \n",
       "14           0.716452           0.707240           0.719223   \n",
       "15           0.716938           0.707061           0.719292   \n",
       "16           0.734019           0.707395           0.717215   \n",
       "17           0.733351           0.708294           0.717729   \n",
       "18           0.733435           0.709312           0.716931   \n",
       "19           0.733935           0.708065           0.717958   \n",
       "\n",
       "    split4_test_score  mean_test_score  std_test_score  rank_test_score  \n",
       "0            0.707537         0.711528        0.003106               17  \n",
       "1            0.707537         0.711528        0.003106               17  \n",
       "2            0.707537         0.711528        0.003106               17  \n",
       "3            0.707537         0.711528        0.003106               17  \n",
       "4            0.726655         0.728624        0.002345                1  \n",
       "5            0.726655         0.728624        0.002345                1  \n",
       "6            0.726655         0.728624        0.002345                1  \n",
       "7            0.726655         0.728624        0.002345                1  \n",
       "8            0.713868         0.715307        0.003241               13  \n",
       "9            0.713868         0.715307        0.003241               13  \n",
       "10           0.713746         0.715210        0.003347               15  \n",
       "11           0.713746         0.715057        0.003261               16  \n",
       "12           0.726455         0.716112        0.006653               10  \n",
       "13           0.726258         0.716084        0.006579               12  \n",
       "14           0.726143         0.716110        0.006488               11  \n",
       "15           0.726438         0.716285        0.006614                9  \n",
       "16           0.716038         0.718592        0.008624                8  \n",
       "17           0.716619         0.719163        0.008104                6  \n",
       "18           0.716001         0.719087        0.007950                7  \n",
       "19           0.717229         0.719581        0.008344                5  "
      ]
     },
     "execution_count": 52,
     "metadata": {},
     "output_type": "execute_result"
    }
   ],
   "source": [
    "# Get the results of the grid search\n",
    "grid_results = pd.DataFrame(grid_search_d.cv_results_)\n",
    "grid_results"
   ]
  },
  {
   "cell_type": "code",
   "execution_count": 53,
   "metadata": {},
   "outputs": [
    {
     "data": {
      "text/html": [
       "<div>\n",
       "<style scoped>\n",
       "    .dataframe tbody tr th:only-of-type {\n",
       "        vertical-align: middle;\n",
       "    }\n",
       "\n",
       "    .dataframe tbody tr th {\n",
       "        vertical-align: top;\n",
       "    }\n",
       "\n",
       "    .dataframe thead th {\n",
       "        text-align: right;\n",
       "    }\n",
       "</style>\n",
       "<table border=\"1\" class=\"dataframe\">\n",
       "  <thead>\n",
       "    <tr style=\"text-align: right;\">\n",
       "      <th></th>\n",
       "      <th>param_max_depth</th>\n",
       "      <th>param_min_samples_leaf</th>\n",
       "      <th>rank_test_score</th>\n",
       "    </tr>\n",
       "  </thead>\n",
       "  <tbody>\n",
       "    <tr>\n",
       "      <th>0</th>\n",
       "      <td>3</td>\n",
       "      <td>4</td>\n",
       "      <td>17</td>\n",
       "    </tr>\n",
       "    <tr>\n",
       "      <th>1</th>\n",
       "      <td>3</td>\n",
       "      <td>8</td>\n",
       "      <td>17</td>\n",
       "    </tr>\n",
       "    <tr>\n",
       "      <th>2</th>\n",
       "      <td>3</td>\n",
       "      <td>12</td>\n",
       "      <td>17</td>\n",
       "    </tr>\n",
       "    <tr>\n",
       "      <th>3</th>\n",
       "      <td>3</td>\n",
       "      <td>16</td>\n",
       "      <td>17</td>\n",
       "    </tr>\n",
       "    <tr>\n",
       "      <th>4</th>\n",
       "      <td>4</td>\n",
       "      <td>4</td>\n",
       "      <td>1</td>\n",
       "    </tr>\n",
       "    <tr>\n",
       "      <th>5</th>\n",
       "      <td>4</td>\n",
       "      <td>8</td>\n",
       "      <td>1</td>\n",
       "    </tr>\n",
       "    <tr>\n",
       "      <th>6</th>\n",
       "      <td>4</td>\n",
       "      <td>12</td>\n",
       "      <td>1</td>\n",
       "    </tr>\n",
       "    <tr>\n",
       "      <th>7</th>\n",
       "      <td>4</td>\n",
       "      <td>16</td>\n",
       "      <td>1</td>\n",
       "    </tr>\n",
       "    <tr>\n",
       "      <th>8</th>\n",
       "      <td>5</td>\n",
       "      <td>4</td>\n",
       "      <td>13</td>\n",
       "    </tr>\n",
       "    <tr>\n",
       "      <th>9</th>\n",
       "      <td>5</td>\n",
       "      <td>8</td>\n",
       "      <td>13</td>\n",
       "    </tr>\n",
       "    <tr>\n",
       "      <th>10</th>\n",
       "      <td>5</td>\n",
       "      <td>12</td>\n",
       "      <td>15</td>\n",
       "    </tr>\n",
       "    <tr>\n",
       "      <th>11</th>\n",
       "      <td>5</td>\n",
       "      <td>16</td>\n",
       "      <td>16</td>\n",
       "    </tr>\n",
       "    <tr>\n",
       "      <th>12</th>\n",
       "      <td>6</td>\n",
       "      <td>4</td>\n",
       "      <td>10</td>\n",
       "    </tr>\n",
       "    <tr>\n",
       "      <th>13</th>\n",
       "      <td>6</td>\n",
       "      <td>8</td>\n",
       "      <td>12</td>\n",
       "    </tr>\n",
       "    <tr>\n",
       "      <th>14</th>\n",
       "      <td>6</td>\n",
       "      <td>12</td>\n",
       "      <td>11</td>\n",
       "    </tr>\n",
       "    <tr>\n",
       "      <th>15</th>\n",
       "      <td>6</td>\n",
       "      <td>16</td>\n",
       "      <td>9</td>\n",
       "    </tr>\n",
       "    <tr>\n",
       "      <th>16</th>\n",
       "      <td>7</td>\n",
       "      <td>4</td>\n",
       "      <td>8</td>\n",
       "    </tr>\n",
       "    <tr>\n",
       "      <th>17</th>\n",
       "      <td>7</td>\n",
       "      <td>8</td>\n",
       "      <td>6</td>\n",
       "    </tr>\n",
       "    <tr>\n",
       "      <th>18</th>\n",
       "      <td>7</td>\n",
       "      <td>12</td>\n",
       "      <td>7</td>\n",
       "    </tr>\n",
       "    <tr>\n",
       "      <th>19</th>\n",
       "      <td>7</td>\n",
       "      <td>16</td>\n",
       "      <td>5</td>\n",
       "    </tr>\n",
       "  </tbody>\n",
       "</table>\n",
       "</div>"
      ],
      "text/plain": [
       "   param_max_depth param_min_samples_leaf  rank_test_score\n",
       "0                3                      4               17\n",
       "1                3                      8               17\n",
       "2                3                     12               17\n",
       "3                3                     16               17\n",
       "4                4                      4                1\n",
       "5                4                      8                1\n",
       "6                4                     12                1\n",
       "7                4                     16                1\n",
       "8                5                      4               13\n",
       "9                5                      8               13\n",
       "10               5                     12               15\n",
       "11               5                     16               16\n",
       "12               6                      4               10\n",
       "13               6                      8               12\n",
       "14               6                     12               11\n",
       "15               6                     16                9\n",
       "16               7                      4                8\n",
       "17               7                      8                6\n",
       "18               7                     12                7\n",
       "19               7                     16                5"
      ]
     },
     "execution_count": 53,
     "metadata": {},
     "output_type": "execute_result"
    }
   ],
   "source": [
    "# Get the results of the grid search\n",
    "grid_resultss = grid_results[['param_max_depth', 'param_min_samples_leaf', 'rank_test_score']]\n",
    "grid_resultss"
   ]
  },
  {
   "cell_type": "code",
   "execution_count": 54,
   "metadata": {},
   "outputs": [
    {
     "data": {
      "image/png": "[encoded data removed]",
      "text/plain": [
       "<Figure size 720x432 with 2 Axes>"
      ]
     },
     "metadata": {
      "needs_background": "light"
     },
     "output_type": "display_data"
    }
   ],
   "source": [
    "# To create a colorbar and scatter to compare the performance of the different hyperparameters\n",
    "df = pd.DataFrame({\n",
    "    'param_max_depth': [3, 3, 3, 3, 4, 4, 4, 4, 5, 5, 5, 5, 6, 6, 6, 6, 7, 7, 7, 7],\n",
    "    'param_min_samples_leaf': [4, 8, 12, 16, 4, 8, 12, 16, 4, 8, 12, 16, 4, 8, 12, 16, 4, 8, 12, 16],\n",
    "    'rank_test_score': [17, 17, 17, 17, 1, 1, 1, 1, 13, 13, 15, 16, 10, 12, 11, 9, 8, 6, 7, 5]\n",
    "})\n",
    "\n",
    "plt.figure(figsize=(10, 6))\n",
    "scatter = plt.scatter(df['param_max_depth'], df['param_min_samples_leaf'], c=df['rank_test_score'], cmap='viridis')\n",
    "plt.colorbar(scatter)\n",
    "\n",
    "plt.title('Hyperparameters vs Rank Test Score')\n",
    "plt.xlabel('Max Depth')\n",
    "plt.ylabel('Min Samples Leaf')\n",
    "\n",
    "plt.show()"
   ]
  },
  {
   "cell_type": "code",
   "execution_count": 55,
   "metadata": {},
   "outputs": [
    {
     "data": {
      "text/plain": [
       "DecisionTreeClassifier(criterion='entropy', max_depth=4, min_samples_leaf=4,\n",
       "                       random_state=0)"
      ]
     },
     "execution_count": 55,
     "metadata": {},
     "output_type": "execute_result"
    }
   ],
   "source": [
    "# To print best estimator\n",
    "grid_search_d.best_estimator_"
   ]
  },
  {
   "cell_type": "code",
   "execution_count": 56,
   "metadata": {},
   "outputs": [
    {
     "data": {
      "text/plain": [
       "array([0, 0, 1, ..., 1, 0, 1], dtype=int64)"
      ]
     },
     "execution_count": 56,
     "metadata": {},
     "output_type": "execute_result"
    }
   ],
   "source": [
    "# To make predictions for test data\n",
    "grid_search_d.best_estimator_.predict(x_test_d_std)"
   ]
  },
  {
   "cell_type": "code",
   "execution_count": 57,
   "metadata": {},
   "outputs": [
    {
     "data": {
      "text/plain": [
       "{'max_depth': 4, 'min_samples_leaf': 4}"
      ]
     },
     "execution_count": 57,
     "metadata": {},
     "output_type": "execute_result"
    }
   ],
   "source": [
    "# To print best parameters\n",
    "grid_search_d.best_params_"
   ]
  },
  {
   "cell_type": "code",
   "execution_count": 58,
   "metadata": {
    "scrolled": true
   },
   "outputs": [
    {
     "data": {
      "text/plain": [
       "0.7286241058212759"
      ]
     },
     "execution_count": 58,
     "metadata": {},
     "output_type": "execute_result"
    }
   ],
   "source": [
    "# To print best score\n",
    "grid_search_d.best_score_"
   ]
  },
  {
   "cell_type": "code",
   "execution_count": 59,
   "metadata": {},
   "outputs": [],
   "source": [
    "# To identify decision tree according to best parameters\n",
    "mytree_b=DecisionTreeClassifier(criterion='entropy', max_depth=4, min_samples_leaf=4, random_state=0)"
   ]
  },
  {
   "cell_type": "code",
   "execution_count": 60,
   "metadata": {},
   "outputs": [
    {
     "data": {
      "text/plain": [
       "DecisionTreeClassifier(criterion='entropy', max_depth=4, min_samples_leaf=4,\n",
       "                       random_state=0)"
      ]
     },
     "execution_count": 60,
     "metadata": {},
     "output_type": "execute_result"
    }
   ],
   "source": [
    "# To train the decision tree with training data\n",
    "mytree_b.fit(x_train_d_std, y_train_d)"
   ]
  },
  {
   "cell_type": "code",
   "execution_count": 61,
   "metadata": {},
   "outputs": [],
   "source": [
    "# To make predictions for test data\n",
    "y_predict_d_b = mytree_b.predict(x_test_d_std)"
   ]
  },
  {
   "cell_type": "code",
   "execution_count": 62,
   "metadata": {},
   "outputs": [
    {
     "data": {
      "text/plain": [
       "array([0, 0, 1, ..., 1, 0, 1], dtype=int64)"
      ]
     },
     "execution_count": 62,
     "metadata": {},
     "output_type": "execute_result"
    }
   ],
   "source": [
    "y_predict_d_b"
   ]
  },
  {
   "cell_type": "code",
   "execution_count": 63,
   "metadata": {},
   "outputs": [
    {
     "name": "stdout",
     "output_type": "stream",
     "text": [
      "              precision    recall  f1-score   support\n",
      "\n",
      "           0       0.73      0.73      0.73      7110\n",
      "           1       0.72      0.72      0.72      6890\n",
      "\n",
      "    accuracy                           0.73     14000\n",
      "   macro avg       0.73      0.73      0.73     14000\n",
      "weighted avg       0.73      0.73      0.73     14000\n",
      "\n"
     ]
    }
   ],
   "source": [
    "# To print classification report\n",
    "print(classification_report(y_test_d, mytree_b.predict(x_test_d_std)))"
   ]
  },
  {
   "cell_type": "code",
   "execution_count": 64,
   "metadata": {},
   "outputs": [
    {
     "name": "stdout",
     "output_type": "stream",
     "text": [
      "Accuracy: 0.7265\n",
      "Precision: 0.7265\n",
      "Recall: 0.7265\n",
      "F1 Score: 0.7265\n",
      "Fβ Score: 0.7265\n"
     ]
    }
   ],
   "source": [
    "# To calculate performance\n",
    "accuracy_score_d_b = accuracy_score(y_test_d, y_predict_d_b)\n",
    "precision_score_d_b = precision_score(y_test_d, y_predict_d_b, average =\"micro\")\n",
    "recall_score_d_b = recall_score(y_test_d, y_predict_d_b, average=\"micro\")\n",
    "f1_score_d_b = f1_score(y_test_d, y_predict_d_b, average=\"micro\")\n",
    "fbeta_score_d_b = fbeta_score(y_test_d, y_predict_d_b, beta=2, average=\"micro\")\n",
    "\n",
    "# To write performance\n",
    "print(f'Accuracy: {accuracy_score_d_b}')\n",
    "print(f'Precision: {precision_score_d_b}')\n",
    "print(f'Recall: {recall_score_d_b}')\n",
    "print(f'F1 Score: {f1_score_d_b}')\n",
    "print(\"Fβ Score:\", fbeta_score_d_b)"
   ]
  },
  {
   "cell_type": "code",
   "execution_count": 65,
   "metadata": {},
   "outputs": [],
   "source": [
    "# To calculate confusion matrix\n",
    "cm=confusion_matrix(y_test_d, mytree_b.predict(x_test_d_std))"
   ]
  },
  {
   "cell_type": "code",
   "execution_count": 66,
   "metadata": {},
   "outputs": [
    {
     "data": {
      "text/plain": [
       "<sklearn.metrics._plot.confusion_matrix.ConfusionMatrixDisplay at 0x18b0f713880>"
      ]
     },
     "execution_count": 66,
     "metadata": {},
     "output_type": "execute_result"
    },
    {
     "data": {
      "image/png": "[encoded data removed]",
      "text/plain": [
       "<Figure size 432x288 with 2 Axes>"
      ]
     },
     "metadata": {
      "needs_background": "light"
     },
     "output_type": "display_data"
    }
   ],
   "source": [
    "# To plot the confusion matrix\n",
    "disp=ConfusionMatrixDisplay(confusion_matrix=cm)\n",
    "disp.plot()"
   ]
  },
  {
   "cell_type": "code",
   "execution_count": 67,
   "metadata": {},
   "outputs": [],
   "source": [
    "# RANDOM FOREST"
   ]
  },
  {
   "cell_type": "code",
   "execution_count": 68,
   "metadata": {},
   "outputs": [],
   "source": [
    "# Compare the different features grouph"
   ]
  },
  {
   "cell_type": "code",
   "execution_count": 69,
   "metadata": {},
   "outputs": [],
   "source": [
    "# Highly Correlated Feature Group "
   ]
  },
  {
   "cell_type": "code",
   "execution_count": 70,
   "metadata": {},
   "outputs": [],
   "source": [
    "# To split dataset into training and test sets\n",
    "features = ['age','cholesterol','weight','gluc','ap_lo','ap_hi','gender']\n",
    "x_train_f_c, x_test_f_c, y_train_f_c, y_test_f_c = train_test_split(mydf[features], mydf['cardio'], test_size=0.20, random_state=1234)"
   ]
  },
  {
   "cell_type": "code",
   "execution_count": 71,
   "metadata": {},
   "outputs": [],
   "source": [
    "# To initialize the StandardScaler\n",
    "scaler = StandardScaler()"
   ]
  },
  {
   "cell_type": "code",
   "execution_count": 72,
   "metadata": {},
   "outputs": [],
   "source": [
    "# Apply StandardScaler for normal distribution\n",
    "x_train_f_c_std=scaler.fit_transform(x_train_f_c)\n",
    "x_test_f_c_std=scaler.transform(x_test_f_c)"
   ]
  },
  {
   "cell_type": "code",
   "execution_count": 73,
   "metadata": {},
   "outputs": [],
   "source": [
    "# To identify random forest\n",
    "myforest=RandomForestClassifier(criterion=\"entropy\",n_estimators=100,max_depth=4, random_state=0)"
   ]
  },
  {
   "cell_type": "code",
   "execution_count": 74,
   "metadata": {},
   "outputs": [
    {
     "data": {
      "text/plain": [
       "RandomForestClassifier(criterion='entropy', max_depth=4, random_state=0)"
      ]
     },
     "execution_count": 74,
     "metadata": {},
     "output_type": "execute_result"
    }
   ],
   "source": [
    "# To train the random forest with training data\n",
    "myforest.fit(x_train_f_c_std, y_train_f_c)"
   ]
  },
  {
   "cell_type": "code",
   "execution_count": 75,
   "metadata": {},
   "outputs": [],
   "source": [
    "# To make predictions for test data\n",
    "y_predict_f_c = myforest.predict(x_test_f_c_std)"
   ]
  },
  {
   "cell_type": "code",
   "execution_count": 76,
   "metadata": {},
   "outputs": [
    {
     "data": {
      "text/plain": [
       "array([0, 0, 1, ..., 1, 0, 1], dtype=int64)"
      ]
     },
     "execution_count": 76,
     "metadata": {},
     "output_type": "execute_result"
    }
   ],
   "source": [
    "y_predict_f_c"
   ]
  },
  {
   "cell_type": "code",
   "execution_count": 77,
   "metadata": {},
   "outputs": [
    {
     "data": {
      "text/plain": [
       "array([[0.59666092, 0.40333908],\n",
       "       [0.64771853, 0.35228147],\n",
       "       [0.39607147, 0.60392853],\n",
       "       ...,\n",
       "       [0.2073356 , 0.7926644 ],\n",
       "       [0.69337576, 0.30662424],\n",
       "       [0.43888141, 0.56111859]])"
      ]
     },
     "execution_count": 77,
     "metadata": {},
     "output_type": "execute_result"
    }
   ],
   "source": [
    "# To get prediction probabilities for test data\n",
    "myforest.predict_proba(x_test_f_c_std)"
   ]
  },
  {
   "cell_type": "code",
   "execution_count": 78,
   "metadata": {},
   "outputs": [
    {
     "name": "stdout",
     "output_type": "stream",
     "text": [
      "              precision    recall  f1-score   support\n",
      "\n",
      "           0       0.71      0.80      0.75      7110\n",
      "           1       0.76      0.65      0.70      6890\n",
      "\n",
      "    accuracy                           0.73     14000\n",
      "   macro avg       0.73      0.73      0.73     14000\n",
      "weighted avg       0.73      0.73      0.73     14000\n",
      "\n"
     ]
    }
   ],
   "source": [
    "# To print classification report\n",
    "print(classification_report(y_test_f_c, myforest.predict(x_test_f_c_std)))"
   ]
  },
  {
   "cell_type": "code",
   "execution_count": 79,
   "metadata": {
    "scrolled": true
   },
   "outputs": [
    {
     "name": "stdout",
     "output_type": "stream",
     "text": [
      "Accuracy: 0.7296428571428571\n",
      "Precision: 0.7296428571428571\n",
      "Recall: 0.7296428571428571\n",
      "F1 Score: 0.7296428571428573\n",
      "Fβ Score: 0.7296428571428571\n"
     ]
    }
   ],
   "source": [
    "# To calculate performance\n",
    "accuracy_score_f_c = accuracy_score(y_test_f_c, y_predict_f_c)\n",
    "precision_score_f_c = precision_score(y_test_f_c, y_predict_f_c, average =\"micro\")\n",
    "recall_score_f_c = recall_score(y_test_f_c, y_predict_f_c, average=\"micro\")\n",
    "f1_score_f_c = f1_score(y_test_f_c, y_predict_f_c, average=\"micro\")\n",
    "fbeta_score_f_c = fbeta_score(y_test_f_c, y_predict_f_c, beta=2, average=\"micro\")\n",
    "\n",
    "# To write performance\n",
    "print(f'Accuracy: {accuracy_score_f_c}')\n",
    "print(f'Precision: {precision_score_f_c}')\n",
    "print(f'Recall: {recall_score_f_c}')\n",
    "print(f'F1 Score: {f1_score_f_c}')\n",
    "print(f\"Fβ Score:\", fbeta_score_f_c)"
   ]
  },
  {
   "cell_type": "code",
   "execution_count": 80,
   "metadata": {},
   "outputs": [],
   "source": [
    "# Low Correlation Feature Group Performance"
   ]
  },
  {
   "cell_type": "code",
   "execution_count": 81,
   "metadata": {},
   "outputs": [],
   "source": [
    "# To split dataset into training and test sets\n",
    "features = ['alco','height','smoke','active']\n",
    "x_train_f_cl, x_test_f_cl, y_train_f_cl, y_test_f_cl = train_test_split(mydf[features], mydf['cardio'], test_size=0.20, random_state=1234)"
   ]
  },
  {
   "cell_type": "code",
   "execution_count": 82,
   "metadata": {},
   "outputs": [],
   "source": [
    "# To initialize the StandardScaler\n",
    "scaler = StandardScaler()"
   ]
  },
  {
   "cell_type": "code",
   "execution_count": 83,
   "metadata": {},
   "outputs": [],
   "source": [
    "# Apply StandardScaler for normal distribution\n",
    "x_train_f_cl_std=scaler.fit_transform(x_train_f_cl)\n",
    "x_test_f_cl_std=scaler.transform(x_test_f_cl)"
   ]
  },
  {
   "cell_type": "code",
   "execution_count": 84,
   "metadata": {},
   "outputs": [],
   "source": [
    "# To identify random forest\n",
    "myforest=RandomForestClassifier(criterion=\"entropy\",n_estimators=100,max_depth=4, random_state=0)"
   ]
  },
  {
   "cell_type": "code",
   "execution_count": 85,
   "metadata": {},
   "outputs": [
    {
     "data": {
      "text/plain": [
       "RandomForestClassifier(criterion='entropy', max_depth=4, random_state=0)"
      ]
     },
     "execution_count": 85,
     "metadata": {},
     "output_type": "execute_result"
    }
   ],
   "source": [
    "# To train the random forest with training data\n",
    "myforest.fit(x_train_f_cl_std,y_train_f_cl)"
   ]
  },
  {
   "cell_type": "code",
   "execution_count": 86,
   "metadata": {},
   "outputs": [],
   "source": [
    "# To make predictions for test data\n",
    "y_predict_f_cl = myforest.predict(x_test_f_cl_std)"
   ]
  },
  {
   "cell_type": "code",
   "execution_count": 87,
   "metadata": {},
   "outputs": [
    {
     "data": {
      "text/plain": [
       "array([0, 0, 0, ..., 0, 0, 1], dtype=int64)"
      ]
     },
     "execution_count": 87,
     "metadata": {},
     "output_type": "execute_result"
    }
   ],
   "source": [
    "y_predict_f_cl"
   ]
  },
  {
   "cell_type": "code",
   "execution_count": 88,
   "metadata": {},
   "outputs": [
    {
     "data": {
      "text/plain": [
       "array([[0.5133351 , 0.4866649 ],\n",
       "       [0.51408435, 0.48591565],\n",
       "       [0.51192198, 0.48807802],\n",
       "       ...,\n",
       "       [0.52602274, 0.47397726],\n",
       "       [0.5133351 , 0.4866649 ],\n",
       "       [0.48639378, 0.51360622]])"
      ]
     },
     "execution_count": 88,
     "metadata": {},
     "output_type": "execute_result"
    }
   ],
   "source": [
    "# To get prediction probabilities for test data\n",
    "myforest.predict_proba(x_test_f_cl_std)"
   ]
  },
  {
   "cell_type": "code",
   "execution_count": 89,
   "metadata": {},
   "outputs": [
    {
     "name": "stdout",
     "output_type": "stream",
     "text": [
      "              precision    recall  f1-score   support\n",
      "\n",
      "           0       0.52      0.64      0.57      7110\n",
      "           1       0.51      0.38      0.44      6890\n",
      "\n",
      "    accuracy                           0.51     14000\n",
      "   macro avg       0.51      0.51      0.50     14000\n",
      "weighted avg       0.51      0.51      0.51     14000\n",
      "\n"
     ]
    }
   ],
   "source": [
    "# To print classification report\n",
    "print(classification_report(y_test_f_cl, myforest.predict(x_test_f_cl_std)))"
   ]
  },
  {
   "cell_type": "code",
   "execution_count": 90,
   "metadata": {
    "scrolled": true
   },
   "outputs": [
    {
     "name": "stdout",
     "output_type": "stream",
     "text": [
      "Accuracy: 0.5139285714285714\n",
      "Precision: 0.5139285714285714\n",
      "Recall: 0.5139285714285714\n",
      "F1 Score: 0.5139285714285714\n",
      "Fβ Score: 0.5139285714285714\n"
     ]
    }
   ],
   "source": [
    "# To calculate performance\n",
    "accuracy_score_f_cl = accuracy_score(y_test_f_cl, y_predict_f_cl)\n",
    "precision_score_f_cl = precision_score(y_test_f_cl, y_predict_f_cl, average =\"micro\")\n",
    "recall_score_f_cl = recall_score(y_test_f_cl, y_predict_f_cl, average=\"micro\")\n",
    "f1_score_f_cl = f1_score(y_test_f_cl, y_predict_f_cl, average=\"micro\")\n",
    "fbeta_score_f_cl = fbeta_score(y_test_f_cl, y_predict_f_cl, beta=2, average=\"micro\")\n",
    "\n",
    "# To write performance\n",
    "print(f'Accuracy: {accuracy_score_f_cl}')\n",
    "print(f'Precision: {precision_score_f_cl}')\n",
    "print(f'Recall: {recall_score_f_cl}')\n",
    "print(f'F1 Score: {f1_score_f_cl}')\n",
    "print(f\"Fβ Score:\", fbeta_score_f_cl)"
   ]
  },
  {
   "cell_type": "code",
   "execution_count": 91,
   "metadata": {},
   "outputs": [],
   "source": [
    "# Using All Features Group Performance"
   ]
  },
  {
   "cell_type": "code",
   "execution_count": 92,
   "metadata": {},
   "outputs": [],
   "source": [
    "# To split dataset into training and test sets\n",
    "features = ['age','gender','height','weight','ap_hi','ap_lo','cholesterol','gluc','smoke','alco','active']\n",
    "x_train_f, x_test_f, y_train_f, y_test_f = train_test_split(mydf[features], mydf['cardio'], test_size=0.20, random_state=1234)"
   ]
  },
  {
   "cell_type": "code",
   "execution_count": 93,
   "metadata": {},
   "outputs": [],
   "source": [
    "# To initialize the StandardScaler\n",
    "scaler = StandardScaler()"
   ]
  },
  {
   "cell_type": "code",
   "execution_count": 94,
   "metadata": {},
   "outputs": [],
   "source": [
    "# Apply StandardScaler for normal distribution\n",
    "x_train_f_std=scaler.fit_transform(x_train_f)\n",
    "x_test_f_std=scaler.transform(x_test_f)"
   ]
  },
  {
   "cell_type": "code",
   "execution_count": 95,
   "metadata": {},
   "outputs": [],
   "source": [
    "# To identify random forest\n",
    "myforest=RandomForestClassifier(criterion=\"entropy\",n_estimators=100,max_depth=4, random_state=0)"
   ]
  },
  {
   "cell_type": "code",
   "execution_count": 96,
   "metadata": {},
   "outputs": [
    {
     "data": {
      "text/plain": [
       "RandomForestClassifier(criterion='entropy', max_depth=4, random_state=0)"
      ]
     },
     "execution_count": 96,
     "metadata": {},
     "output_type": "execute_result"
    }
   ],
   "source": [
    "# To train the random forest with training data\n",
    "myforest.fit(x_train_f_std,y_train_f)"
   ]
  },
  {
   "cell_type": "code",
   "execution_count": 97,
   "metadata": {},
   "outputs": [],
   "source": [
    "# To make predictions for test data\n",
    "y_predict_f = myforest.predict(x_test_f_std)"
   ]
  },
  {
   "cell_type": "code",
   "execution_count": 98,
   "metadata": {},
   "outputs": [
    {
     "data": {
      "text/plain": [
       "array([0, 0, 1, ..., 1, 0, 1], dtype=int64)"
      ]
     },
     "execution_count": 98,
     "metadata": {},
     "output_type": "execute_result"
    }
   ],
   "source": [
    "y_predict_f"
   ]
  },
  {
   "cell_type": "code",
   "execution_count": 99,
   "metadata": {},
   "outputs": [
    {
     "data": {
      "text/plain": [
       "array([[0.60382989, 0.39617011],\n",
       "       [0.64222237, 0.35777763],\n",
       "       [0.38154659, 0.61845341],\n",
       "       ...,\n",
       "       [0.21955434, 0.78044566],\n",
       "       [0.70747688, 0.29252312],\n",
       "       [0.42992689, 0.57007311]])"
      ]
     },
     "execution_count": 99,
     "metadata": {},
     "output_type": "execute_result"
    }
   ],
   "source": [
    "# To get prediction probabilities for test data\n",
    "myforest.predict_proba(x_test_f_std)"
   ]
  },
  {
   "cell_type": "code",
   "execution_count": 100,
   "metadata": {
    "scrolled": true
   },
   "outputs": [
    {
     "name": "stdout",
     "output_type": "stream",
     "text": [
      "              precision    recall  f1-score   support\n",
      "\n",
      "           0       0.71      0.79      0.75      7110\n",
      "           1       0.76      0.66      0.71      6890\n",
      "\n",
      "    accuracy                           0.73     14000\n",
      "   macro avg       0.73      0.73      0.73     14000\n",
      "weighted avg       0.73      0.73      0.73     14000\n",
      "\n"
     ]
    }
   ],
   "source": [
    "# To print classification report\n",
    "print(classification_report(y_test_f, myforest.predict(x_test_f_std)))"
   ]
  },
  {
   "cell_type": "code",
   "execution_count": 101,
   "metadata": {},
   "outputs": [
    {
     "name": "stdout",
     "output_type": "stream",
     "text": [
      "Accuracy: 0.7287142857142858\n",
      "Precision: 0.7287142857142858\n",
      "Recall: 0.7287142857142858\n",
      "F1 Score: 0.7287142857142858\n",
      "Fβ Score: 0.7287142857142858\n"
     ]
    }
   ],
   "source": [
    "# To calculate performance\n",
    "accuracy_score_f = accuracy_score(y_test_f, y_predict_f)\n",
    "precision_score_f = precision_score(y_test_f, y_predict_f, average =\"micro\")\n",
    "recall_score_f = recall_score(y_test_f, y_predict_f, average=\"micro\")\n",
    "f1_score_f = f1_score(y_test_f, y_predict_f, average=\"micro\")\n",
    "fbeta_score_f = fbeta_score(y_test_f, y_predict_f, beta=2, average=\"micro\")\n",
    "\n",
    "# To write performance\n",
    "print(f'Accuracy: {accuracy_score_f}')\n",
    "print(f'Precision: {precision_score_f}')\n",
    "print(f'Recall: {recall_score_f}')\n",
    "print(f'F1 Score: {f1_score_f}')\n",
    "print(f\"Fβ Score:\", fbeta_score_f)"
   ]
  },
  {
   "cell_type": "code",
   "execution_count": 102,
   "metadata": {},
   "outputs": [
    {
     "data": {
      "image/png": "[encoded data removed]",
      "text/plain": [
       "<Figure size 720x432 with 1 Axes>"
      ]
     },
     "metadata": {
      "needs_background": "light"
     },
     "output_type": "display_data"
    }
   ],
   "source": [
    "# To create a bar graph to compare the performance of the different feature\n",
    "performance = {\n",
    "    'Measure': ['Accuracy', 'Precision', 'Recall', 'F1 Score', 'Fβ Score'],\n",
    "    'High Correlation': [accuracy_score_f_c, precision_score_f_c,recall_score_f_c, f1_score_f_c, fbeta_score_f_c],\n",
    "    'Low Correlation': [accuracy_score_f_cl, precision_score_f_cl,recall_score_f_cl, f1_score_f_cl, fbeta_score_f_cl],\n",
    "    'All Feautes': [accuracy_score_f, precision_score_f,recall_score_f, f1_score_f, fbeta_score_f]\n",
    "}\n",
    "\n",
    "\n",
    "df_performance = pd.DataFrame(performance)\n",
    "df_performance.set_index('Measure', inplace=True)\n",
    "ax = df_performance.plot(kind='bar', figsize=(10, 6))\n",
    "ax.set_ylabel('Score')\n",
    "ax.set_title('Different Features Group Performance Measure Comparison')\n",
    "\n",
    "plt.show()"
   ]
  },
  {
   "cell_type": "code",
   "execution_count": 103,
   "metadata": {},
   "outputs": [],
   "source": [
    "# To identify different parameters to be tried in the model\n",
    "grid_params_f = {\n",
    "    \"n_estimators\": [10, 30, 100, 200],\n",
    "    \"max_depth\": [3, 5, 9, 11],\n",
    "    \"min_samples_leaf\": [4, 8, 12, 16],\n",
    "}\n",
    "\n",
    "# To create the model and setting its parameter\n",
    "grid_search_f = GridSearchCV(myforest, grid_params_f, verbose=1, scoring=\"f1\", cv=5, n_jobs=-1)"
   ]
  },
  {
   "cell_type": "code",
   "execution_count": 104,
   "metadata": {},
   "outputs": [
    {
     "data": {
      "text/plain": [
       "GridSearchCV(cv=5,\n",
       "             estimator=RandomForestClassifier(criterion='entropy', max_depth=4,\n",
       "                                              random_state=0),\n",
       "             n_jobs=-1,\n",
       "             param_grid={'max_depth': [3, 5, 9, 11],\n",
       "                         'min_samples_leaf': [4, 8, 12, 16],\n",
       "                         'n_estimators': [10, 30, 100, 200]},\n",
       "             scoring='f1', verbose=1)"
      ]
     },
     "execution_count": 104,
     "metadata": {},
     "output_type": "execute_result"
    }
   ],
   "source": [
    "# It aims to find the best parameters among the options given for the model and to evaluate the performance of the model.\n",
    "grid_search_f"
   ]
  },
  {
   "cell_type": "code",
   "execution_count": 105,
   "metadata": {
    "scrolled": true
   },
   "outputs": [
    {
     "name": "stdout",
     "output_type": "stream",
     "text": [
      "Fitting 5 folds for each of 64 candidates, totalling 320 fits\n"
     ]
    },
    {
     "name": "stderr",
     "output_type": "stream",
     "text": [
      "[Parallel(n_jobs=-1)]: Using backend LokyBackend with 12 concurrent workers.\n",
      "[Parallel(n_jobs=-1)]: Done  26 tasks      | elapsed:    6.0s\n",
      "[Parallel(n_jobs=-1)]: Done 176 tasks      | elapsed:   44.4s\n",
      "[Parallel(n_jobs=-1)]: Done 320 out of 320 | elapsed:  1.7min finished\n"
     ]
    },
    {
     "data": {
      "text/plain": [
       "GridSearchCV(cv=5,\n",
       "             estimator=RandomForestClassifier(criterion='entropy', max_depth=4,\n",
       "                                              random_state=0),\n",
       "             n_jobs=-1,\n",
       "             param_grid={'max_depth': [3, 5, 9, 11],\n",
       "                         'min_samples_leaf': [4, 8, 12, 16],\n",
       "                         'n_estimators': [10, 30, 100, 200]},\n",
       "             scoring='f1', verbose=1)"
      ]
     },
     "execution_count": 105,
     "metadata": {},
     "output_type": "execute_result"
    }
   ],
   "source": [
    "# To train the grid search with training data\n",
    "grid_search_f.fit(x_train_f_std,y_train_f)"
   ]
  },
  {
   "cell_type": "code",
   "execution_count": 106,
   "metadata": {
    "scrolled": false
   },
   "outputs": [
    {
     "data": {
      "text/html": [
       "<div>\n",
       "<style scoped>\n",
       "    .dataframe tbody tr th:only-of-type {\n",
       "        vertical-align: middle;\n",
       "    }\n",
       "\n",
       "    .dataframe tbody tr th {\n",
       "        vertical-align: top;\n",
       "    }\n",
       "\n",
       "    .dataframe thead th {\n",
       "        text-align: right;\n",
       "    }\n",
       "</style>\n",
       "<table border=\"1\" class=\"dataframe\">\n",
       "  <thead>\n",
       "    <tr style=\"text-align: right;\">\n",
       "      <th></th>\n",
       "      <th>mean_fit_time</th>\n",
       "      <th>std_fit_time</th>\n",
       "      <th>mean_score_time</th>\n",
       "      <th>std_score_time</th>\n",
       "      <th>param_max_depth</th>\n",
       "      <th>param_min_samples_leaf</th>\n",
       "      <th>param_n_estimators</th>\n",
       "      <th>params</th>\n",
       "      <th>split0_test_score</th>\n",
       "      <th>split1_test_score</th>\n",
       "      <th>split2_test_score</th>\n",
       "      <th>split3_test_score</th>\n",
       "      <th>split4_test_score</th>\n",
       "      <th>mean_test_score</th>\n",
       "      <th>std_test_score</th>\n",
       "      <th>rank_test_score</th>\n",
       "    </tr>\n",
       "  </thead>\n",
       "  <tbody>\n",
       "    <tr>\n",
       "      <th>0</th>\n",
       "      <td>0.287083</td>\n",
       "      <td>0.013456</td>\n",
       "      <td>0.018002</td>\n",
       "      <td>0.002280</td>\n",
       "      <td>3</td>\n",
       "      <td>4</td>\n",
       "      <td>10</td>\n",
       "      <td>{'max_depth': 3, 'min_samples_leaf': 4, 'n_est...</td>\n",
       "      <td>0.688714</td>\n",
       "      <td>0.701850</td>\n",
       "      <td>0.695372</td>\n",
       "      <td>0.704165</td>\n",
       "      <td>0.699116</td>\n",
       "      <td>0.697843</td>\n",
       "      <td>0.005424</td>\n",
       "      <td>63</td>\n",
       "    </tr>\n",
       "    <tr>\n",
       "      <th>1</th>\n",
       "      <td>0.856885</td>\n",
       "      <td>0.089474</td>\n",
       "      <td>0.036394</td>\n",
       "      <td>0.001023</td>\n",
       "      <td>3</td>\n",
       "      <td>4</td>\n",
       "      <td>30</td>\n",
       "      <td>{'max_depth': 3, 'min_samples_leaf': 4, 'n_est...</td>\n",
       "      <td>0.693459</td>\n",
       "      <td>0.701706</td>\n",
       "      <td>0.700724</td>\n",
       "      <td>0.704736</td>\n",
       "      <td>0.695223</td>\n",
       "      <td>0.699170</td>\n",
       "      <td>0.004196</td>\n",
       "      <td>59</td>\n",
       "    </tr>\n",
       "    <tr>\n",
       "      <th>2</th>\n",
       "      <td>3.013175</td>\n",
       "      <td>0.219770</td>\n",
       "      <td>0.105001</td>\n",
       "      <td>0.002607</td>\n",
       "      <td>3</td>\n",
       "      <td>4</td>\n",
       "      <td>100</td>\n",
       "      <td>{'max_depth': 3, 'min_samples_leaf': 4, 'n_est...</td>\n",
       "      <td>0.704937</td>\n",
       "      <td>0.708083</td>\n",
       "      <td>0.707707</td>\n",
       "      <td>0.709011</td>\n",
       "      <td>0.701552</td>\n",
       "      <td>0.706258</td>\n",
       "      <td>0.002717</td>\n",
       "      <td>54</td>\n",
       "    </tr>\n",
       "    <tr>\n",
       "      <th>3</th>\n",
       "      <td>5.696586</td>\n",
       "      <td>0.226919</td>\n",
       "      <td>0.202234</td>\n",
       "      <td>0.003576</td>\n",
       "      <td>3</td>\n",
       "      <td>4</td>\n",
       "      <td>200</td>\n",
       "      <td>{'max_depth': 3, 'min_samples_leaf': 4, 'n_est...</td>\n",
       "      <td>0.705348</td>\n",
       "      <td>0.708721</td>\n",
       "      <td>0.708962</td>\n",
       "      <td>0.708836</td>\n",
       "      <td>0.702196</td>\n",
       "      <td>0.706813</td>\n",
       "      <td>0.002676</td>\n",
       "      <td>48</td>\n",
       "    </tr>\n",
       "    <tr>\n",
       "      <th>4</th>\n",
       "      <td>0.320201</td>\n",
       "      <td>0.032057</td>\n",
       "      <td>0.017599</td>\n",
       "      <td>0.002800</td>\n",
       "      <td>3</td>\n",
       "      <td>8</td>\n",
       "      <td>10</td>\n",
       "      <td>{'max_depth': 3, 'min_samples_leaf': 8, 'n_est...</td>\n",
       "      <td>0.688714</td>\n",
       "      <td>0.701850</td>\n",
       "      <td>0.695372</td>\n",
       "      <td>0.704165</td>\n",
       "      <td>0.699116</td>\n",
       "      <td>0.697843</td>\n",
       "      <td>0.005424</td>\n",
       "      <td>63</td>\n",
       "    </tr>\n",
       "    <tr>\n",
       "      <th>...</th>\n",
       "      <td>...</td>\n",
       "      <td>...</td>\n",
       "      <td>...</td>\n",
       "      <td>...</td>\n",
       "      <td>...</td>\n",
       "      <td>...</td>\n",
       "      <td>...</td>\n",
       "      <td>...</td>\n",
       "      <td>...</td>\n",
       "      <td>...</td>\n",
       "      <td>...</td>\n",
       "      <td>...</td>\n",
       "      <td>...</td>\n",
       "      <td>...</td>\n",
       "      <td>...</td>\n",
       "      <td>...</td>\n",
       "    </tr>\n",
       "    <tr>\n",
       "      <th>59</th>\n",
       "      <td>10.643989</td>\n",
       "      <td>0.549388</td>\n",
       "      <td>0.356755</td>\n",
       "      <td>0.023124</td>\n",
       "      <td>11</td>\n",
       "      <td>12</td>\n",
       "      <td>200</td>\n",
       "      <td>{'max_depth': 11, 'min_samples_leaf': 12, 'n_e...</td>\n",
       "      <td>0.721060</td>\n",
       "      <td>0.731590</td>\n",
       "      <td>0.718314</td>\n",
       "      <td>0.726982</td>\n",
       "      <td>0.717545</td>\n",
       "      <td>0.723098</td>\n",
       "      <td>0.005387</td>\n",
       "      <td>7</td>\n",
       "    </tr>\n",
       "    <tr>\n",
       "      <th>60</th>\n",
       "      <td>0.534482</td>\n",
       "      <td>0.008170</td>\n",
       "      <td>0.024400</td>\n",
       "      <td>0.000493</td>\n",
       "      <td>11</td>\n",
       "      <td>16</td>\n",
       "      <td>10</td>\n",
       "      <td>{'max_depth': 11, 'min_samples_leaf': 16, 'n_e...</td>\n",
       "      <td>0.722129</td>\n",
       "      <td>0.730481</td>\n",
       "      <td>0.716283</td>\n",
       "      <td>0.722754</td>\n",
       "      <td>0.719579</td>\n",
       "      <td>0.722245</td>\n",
       "      <td>0.004707</td>\n",
       "      <td>11</td>\n",
       "    </tr>\n",
       "    <tr>\n",
       "      <th>61</th>\n",
       "      <td>1.534790</td>\n",
       "      <td>0.017243</td>\n",
       "      <td>0.061131</td>\n",
       "      <td>0.003352</td>\n",
       "      <td>11</td>\n",
       "      <td>16</td>\n",
       "      <td>30</td>\n",
       "      <td>{'max_depth': 11, 'min_samples_leaf': 16, 'n_e...</td>\n",
       "      <td>0.719963</td>\n",
       "      <td>0.728219</td>\n",
       "      <td>0.717475</td>\n",
       "      <td>0.722651</td>\n",
       "      <td>0.719519</td>\n",
       "      <td>0.721565</td>\n",
       "      <td>0.003713</td>\n",
       "      <td>13</td>\n",
       "    </tr>\n",
       "    <tr>\n",
       "      <th>62</th>\n",
       "      <td>5.070049</td>\n",
       "      <td>0.098775</td>\n",
       "      <td>0.174826</td>\n",
       "      <td>0.014545</td>\n",
       "      <td>11</td>\n",
       "      <td>16</td>\n",
       "      <td>100</td>\n",
       "      <td>{'max_depth': 11, 'min_samples_leaf': 16, 'n_e...</td>\n",
       "      <td>0.721421</td>\n",
       "      <td>0.730433</td>\n",
       "      <td>0.720090</td>\n",
       "      <td>0.727119</td>\n",
       "      <td>0.718382</td>\n",
       "      <td>0.723489</td>\n",
       "      <td>0.004545</td>\n",
       "      <td>4</td>\n",
       "    </tr>\n",
       "    <tr>\n",
       "      <th>63</th>\n",
       "      <td>7.119747</td>\n",
       "      <td>0.752201</td>\n",
       "      <td>0.235788</td>\n",
       "      <td>0.015992</td>\n",
       "      <td>11</td>\n",
       "      <td>16</td>\n",
       "      <td>200</td>\n",
       "      <td>{'max_depth': 11, 'min_samples_leaf': 16, 'n_e...</td>\n",
       "      <td>0.720566</td>\n",
       "      <td>0.730905</td>\n",
       "      <td>0.720165</td>\n",
       "      <td>0.726829</td>\n",
       "      <td>0.718367</td>\n",
       "      <td>0.723367</td>\n",
       "      <td>0.004731</td>\n",
       "      <td>5</td>\n",
       "    </tr>\n",
       "  </tbody>\n",
       "</table>\n",
       "<p>64 rows × 16 columns</p>\n",
       "</div>"
      ],
      "text/plain": [
       "    mean_fit_time  std_fit_time  mean_score_time  std_score_time  \\\n",
       "0        0.287083      0.013456         0.018002        0.002280   \n",
       "1        0.856885      0.089474         0.036394        0.001023   \n",
       "2        3.013175      0.219770         0.105001        0.002607   \n",
       "3        5.696586      0.226919         0.202234        0.003576   \n",
       "4        0.320201      0.032057         0.017599        0.002800   \n",
       "..            ...           ...              ...             ...   \n",
       "59      10.643989      0.549388         0.356755        0.023124   \n",
       "60       0.534482      0.008170         0.024400        0.000493   \n",
       "61       1.534790      0.017243         0.061131        0.003352   \n",
       "62       5.070049      0.098775         0.174826        0.014545   \n",
       "63       7.119747      0.752201         0.235788        0.015992   \n",
       "\n",
       "   param_max_depth param_min_samples_leaf param_n_estimators  \\\n",
       "0                3                      4                 10   \n",
       "1                3                      4                 30   \n",
       "2                3                      4                100   \n",
       "3                3                      4                200   \n",
       "4                3                      8                 10   \n",
       "..             ...                    ...                ...   \n",
       "59              11                     12                200   \n",
       "60              11                     16                 10   \n",
       "61              11                     16                 30   \n",
       "62              11                     16                100   \n",
       "63              11                     16                200   \n",
       "\n",
       "                                               params  split0_test_score  \\\n",
       "0   {'max_depth': 3, 'min_samples_leaf': 4, 'n_est...           0.688714   \n",
       "1   {'max_depth': 3, 'min_samples_leaf': 4, 'n_est...           0.693459   \n",
       "2   {'max_depth': 3, 'min_samples_leaf': 4, 'n_est...           0.704937   \n",
       "3   {'max_depth': 3, 'min_samples_leaf': 4, 'n_est...           0.705348   \n",
       "4   {'max_depth': 3, 'min_samples_leaf': 8, 'n_est...           0.688714   \n",
       "..                                                ...                ...   \n",
       "59  {'max_depth': 11, 'min_samples_leaf': 12, 'n_e...           0.721060   \n",
       "60  {'max_depth': 11, 'min_samples_leaf': 16, 'n_e...           0.722129   \n",
       "61  {'max_depth': 11, 'min_samples_leaf': 16, 'n_e...           0.719963   \n",
       "62  {'max_depth': 11, 'min_samples_leaf': 16, 'n_e...           0.721421   \n",
       "63  {'max_depth': 11, 'min_samples_leaf': 16, 'n_e...           0.720566   \n",
       "\n",
       "    split1_test_score  split2_test_score  split3_test_score  \\\n",
       "0            0.701850           0.695372           0.704165   \n",
       "1            0.701706           0.700724           0.704736   \n",
       "2            0.708083           0.707707           0.709011   \n",
       "3            0.708721           0.708962           0.708836   \n",
       "4            0.701850           0.695372           0.704165   \n",
       "..                ...                ...                ...   \n",
       "59           0.731590           0.718314           0.726982   \n",
       "60           0.730481           0.716283           0.722754   \n",
       "61           0.728219           0.717475           0.722651   \n",
       "62           0.730433           0.720090           0.727119   \n",
       "63           0.730905           0.720165           0.726829   \n",
       "\n",
       "    split4_test_score  mean_test_score  std_test_score  rank_test_score  \n",
       "0            0.699116         0.697843        0.005424               63  \n",
       "1            0.695223         0.699170        0.004196               59  \n",
       "2            0.701552         0.706258        0.002717               54  \n",
       "3            0.702196         0.706813        0.002676               48  \n",
       "4            0.699116         0.697843        0.005424               63  \n",
       "..                ...              ...             ...              ...  \n",
       "59           0.717545         0.723098        0.005387                7  \n",
       "60           0.719579         0.722245        0.004707               11  \n",
       "61           0.719519         0.721565        0.003713               13  \n",
       "62           0.718382         0.723489        0.004545                4  \n",
       "63           0.718367         0.723367        0.004731                5  \n",
       "\n",
       "[64 rows x 16 columns]"
      ]
     },
     "execution_count": 106,
     "metadata": {},
     "output_type": "execute_result"
    }
   ],
   "source": [
    "# Get the results of the grid search\n",
    "grid_results_f = pd.DataFrame(grid_search_f.cv_results_)\n",
    "grid_results_f"
   ]
  },
  {
   "cell_type": "code",
   "execution_count": 107,
   "metadata": {
    "scrolled": false
   },
   "outputs": [
    {
     "data": {
      "text/html": [
       "<div>\n",
       "<style scoped>\n",
       "    .dataframe tbody tr th:only-of-type {\n",
       "        vertical-align: middle;\n",
       "    }\n",
       "\n",
       "    .dataframe tbody tr th {\n",
       "        vertical-align: top;\n",
       "    }\n",
       "\n",
       "    .dataframe thead th {\n",
       "        text-align: right;\n",
       "    }\n",
       "</style>\n",
       "<table border=\"1\" class=\"dataframe\">\n",
       "  <thead>\n",
       "    <tr style=\"text-align: right;\">\n",
       "      <th></th>\n",
       "      <th>param_max_depth</th>\n",
       "      <th>param_min_samples_leaf</th>\n",
       "      <th>param_n_estimators</th>\n",
       "      <th>rank_test_score</th>\n",
       "    </tr>\n",
       "  </thead>\n",
       "  <tbody>\n",
       "    <tr>\n",
       "      <th>0</th>\n",
       "      <td>3</td>\n",
       "      <td>4</td>\n",
       "      <td>10</td>\n",
       "      <td>63</td>\n",
       "    </tr>\n",
       "    <tr>\n",
       "      <th>1</th>\n",
       "      <td>3</td>\n",
       "      <td>4</td>\n",
       "      <td>30</td>\n",
       "      <td>59</td>\n",
       "    </tr>\n",
       "    <tr>\n",
       "      <th>2</th>\n",
       "      <td>3</td>\n",
       "      <td>4</td>\n",
       "      <td>100</td>\n",
       "      <td>54</td>\n",
       "    </tr>\n",
       "    <tr>\n",
       "      <th>3</th>\n",
       "      <td>3</td>\n",
       "      <td>4</td>\n",
       "      <td>200</td>\n",
       "      <td>48</td>\n",
       "    </tr>\n",
       "    <tr>\n",
       "      <th>4</th>\n",
       "      <td>3</td>\n",
       "      <td>8</td>\n",
       "      <td>10</td>\n",
       "      <td>63</td>\n",
       "    </tr>\n",
       "    <tr>\n",
       "      <th>...</th>\n",
       "      <td>...</td>\n",
       "      <td>...</td>\n",
       "      <td>...</td>\n",
       "      <td>...</td>\n",
       "    </tr>\n",
       "    <tr>\n",
       "      <th>59</th>\n",
       "      <td>11</td>\n",
       "      <td>12</td>\n",
       "      <td>200</td>\n",
       "      <td>7</td>\n",
       "    </tr>\n",
       "    <tr>\n",
       "      <th>60</th>\n",
       "      <td>11</td>\n",
       "      <td>16</td>\n",
       "      <td>10</td>\n",
       "      <td>11</td>\n",
       "    </tr>\n",
       "    <tr>\n",
       "      <th>61</th>\n",
       "      <td>11</td>\n",
       "      <td>16</td>\n",
       "      <td>30</td>\n",
       "      <td>13</td>\n",
       "    </tr>\n",
       "    <tr>\n",
       "      <th>62</th>\n",
       "      <td>11</td>\n",
       "      <td>16</td>\n",
       "      <td>100</td>\n",
       "      <td>4</td>\n",
       "    </tr>\n",
       "    <tr>\n",
       "      <th>63</th>\n",
       "      <td>11</td>\n",
       "      <td>16</td>\n",
       "      <td>200</td>\n",
       "      <td>5</td>\n",
       "    </tr>\n",
       "  </tbody>\n",
       "</table>\n",
       "<p>64 rows × 4 columns</p>\n",
       "</div>"
      ],
      "text/plain": [
       "   param_max_depth param_min_samples_leaf param_n_estimators  rank_test_score\n",
       "0                3                      4                 10               63\n",
       "1                3                      4                 30               59\n",
       "2                3                      4                100               54\n",
       "3                3                      4                200               48\n",
       "4                3                      8                 10               63\n",
       "..             ...                    ...                ...              ...\n",
       "59              11                     12                200                7\n",
       "60              11                     16                 10               11\n",
       "61              11                     16                 30               13\n",
       "62              11                     16                100                4\n",
       "63              11                     16                200                5\n",
       "\n",
       "[64 rows x 4 columns]"
      ]
     },
     "execution_count": 107,
     "metadata": {},
     "output_type": "execute_result"
    }
   ],
   "source": [
    "# Get the results of the grid search\n",
    "grid_resultss_f = grid_results_f[['param_max_depth', 'param_min_samples_leaf', 'param_n_estimators', 'rank_test_score']]\n",
    "grid_resultss_f"
   ]
  },
  {
   "cell_type": "code",
   "execution_count": 108,
   "metadata": {},
   "outputs": [
    {
     "data": {
      "image/png": "[encoded data removed]",
      "text/plain": [
       "<Figure size 864x576 with 2 Axes>"
      ]
     },
     "metadata": {
      "needs_background": "light"
     },
     "output_type": "display_data"
    }
   ],
   "source": [
    "# To create a colorbar and scatter to compare the performance of the different hyperparameters\n",
    "df = pd.DataFrame( {\n",
    "   'param_max_depth': [3, 3, 3, 3, 3, 3, 3, 3, 3, 3, 3, 3, 3, 3, 3, 3, 5, 5, 5, 5, 5, 5, 5, 5, 5, 5, 5, 5, 5, 5, 5, 5, 9, 9, 9, 9, 9, 9, 9, 9, 9, 9, 9, 9, 9, 9, 9, 9, 11, 11, 11, 11, 11, 11, 11, 11, 11, 11, 11, 11, 11, 11, 11, 11],\n",
    "    'param_min_samples_leaf': [4, 4, 4, 4, 8, 8, 8, 8, 12, 12, 12, 12, 16, 16, 16, 16,4, 4, 4, 4, 8, 8, 8, 8, 12, 12, 12, 12, 16, 16, 16, 16,4, 4, 4, 4, 8, 8, 8, 8, 12, 12, 12, 12, 16, 16, 16, 16,4, 4, 4, 4, 8, 8, 8, 8, 12, 12, 12, 12, 16, 16, 16, 16,],\n",
    "    'rank_test_score': [63, 59, 54, 48, 63, 59, 52, 49, 61, 57, 55, 47, 61, 57, 53, 46, 45, 41, 36, 34, 51, 44, 39, 38, 56, 42, 40, 37, 50, 43, 35, 33, 28, 30, 18,26, 29,23,16,17,15,31,27,19,32,22,20,24,25,12,9,6,14,1,2,3,21,10,8,7,11,13,4,5]\n",
    "})\n",
    "\n",
    "plt.figure(figsize=(12, 8))\n",
    "scatter = plt.scatter(df['param_max_depth'], df['param_min_samples_leaf'], c=df['rank_test_score'],cmap='viridis', alpha=0.7)\n",
    "plt.colorbar(scatter, label='Rank Test Score')\n",
    "\n",
    "plt.title('Hyperparameters vs Rank Test Score')\n",
    "plt.xlabel('Max Depth')\n",
    "plt.ylabel('Min Samples Leaf')\n",
    "\n",
    "plt.show()"
   ]
  },
  {
   "cell_type": "code",
   "execution_count": 109,
   "metadata": {},
   "outputs": [
    {
     "data": {
      "text/plain": [
       "RandomForestClassifier(criterion='entropy', max_depth=11, min_samples_leaf=8,\n",
       "                       n_estimators=30, random_state=0)"
      ]
     },
     "execution_count": 109,
     "metadata": {},
     "output_type": "execute_result"
    }
   ],
   "source": [
    "# To print best estimator\n",
    "grid_search_f.best_estimator_"
   ]
  },
  {
   "cell_type": "code",
   "execution_count": 110,
   "metadata": {},
   "outputs": [
    {
     "data": {
      "text/plain": [
       "array([0, 0, 1, ..., 1, 0, 1], dtype=int64)"
      ]
     },
     "execution_count": 110,
     "metadata": {},
     "output_type": "execute_result"
    }
   ],
   "source": [
    "# To make predictions for test data\n",
    "grid_search_f.best_estimator_.predict(x_test_f_std)"
   ]
  },
  {
   "cell_type": "code",
   "execution_count": 111,
   "metadata": {},
   "outputs": [
    {
     "data": {
      "text/plain": [
       "{'max_depth': 11, 'min_samples_leaf': 8, 'n_estimators': 30}"
      ]
     },
     "execution_count": 111,
     "metadata": {},
     "output_type": "execute_result"
    }
   ],
   "source": [
    "# To print best parameters\n",
    "grid_search_f.best_params_"
   ]
  },
  {
   "cell_type": "code",
   "execution_count": 112,
   "metadata": {},
   "outputs": [
    {
     "data": {
      "text/plain": [
       "0.7245329397831184"
      ]
     },
     "execution_count": 112,
     "metadata": {},
     "output_type": "execute_result"
    }
   ],
   "source": [
    "# To print best score\n",
    "grid_search_f.best_score_"
   ]
  },
  {
   "cell_type": "code",
   "execution_count": 113,
   "metadata": {},
   "outputs": [],
   "source": [
    "# To identify random forest according to best parameters\n",
    "myforest_b=RandomForestClassifier(criterion=\"entropy\",n_estimators=30,max_depth=11, min_samples_leaf =8, random_state=0)"
   ]
  },
  {
   "cell_type": "code",
   "execution_count": 114,
   "metadata": {},
   "outputs": [
    {
     "data": {
      "text/plain": [
       "RandomForestClassifier(criterion='entropy', max_depth=11, min_samples_leaf=8,\n",
       "                       n_estimators=30, random_state=0)"
      ]
     },
     "execution_count": 114,
     "metadata": {},
     "output_type": "execute_result"
    }
   ],
   "source": [
    "# To train the random forest with training data\n",
    "myforest_b.fit(x_train_f_std,y_train_f)"
   ]
  },
  {
   "cell_type": "code",
   "execution_count": 115,
   "metadata": {},
   "outputs": [],
   "source": [
    "# To make predictions for test data\n",
    "y_predict_f_b = myforest_b.predict(x_test_f_std)"
   ]
  },
  {
   "cell_type": "code",
   "execution_count": 116,
   "metadata": {},
   "outputs": [
    {
     "data": {
      "text/plain": [
       "array([0, 0, 1, ..., 1, 0, 1], dtype=int64)"
      ]
     },
     "execution_count": 116,
     "metadata": {},
     "output_type": "execute_result"
    }
   ],
   "source": [
    "y_predict_f_b"
   ]
  },
  {
   "cell_type": "code",
   "execution_count": 117,
   "metadata": {},
   "outputs": [
    {
     "name": "stdout",
     "output_type": "stream",
     "text": [
      "Accuracy: 0.7332142857142857\n",
      "Precision: 0.7332142857142857\n",
      "Recall: 0.7332142857142857\n",
      "F1 Score: 0.7332142857142857\n",
      "Fβ Score: 0.7332142857142858\n"
     ]
    }
   ],
   "source": [
    "# To calculate performance\n",
    "accuracy_score_f_b = accuracy_score(y_test_f, y_predict_f_b)\n",
    "precision_score_f_b = precision_score(y_test_f, y_predict_f_b, average =\"micro\")\n",
    "recall_score_f_b = recall_score(y_test_f, y_predict_f_b, average=\"micro\")\n",
    "f1_score_f_b = f1_score(y_test_f, y_predict_f_b, average=\"micro\")\n",
    "fbeta_score_f_b = fbeta_score(y_test_f, y_predict_f_b, beta=2, average=\"micro\")\n",
    "\n",
    "# To write performance\n",
    "print(f'Accuracy: {accuracy_score_f_b}')\n",
    "print(f'Precision: {precision_score_f_b}')\n",
    "print(f'Recall: {recall_score_f_b}')\n",
    "print(f'F1 Score: {f1_score_f_b}')\n",
    "print(f\"Fβ Score:\", fbeta_score_f_b)"
   ]
  },
  {
   "cell_type": "code",
   "execution_count": 118,
   "metadata": {},
   "outputs": [
    {
     "data": {
      "text/plain": [
       "array([[0.63469446, 0.36530554],\n",
       "       [0.65448047, 0.34551953],\n",
       "       [0.40541253, 0.59458747],\n",
       "       ...,\n",
       "       [0.20666055, 0.79333945],\n",
       "       [0.75224754, 0.24775246],\n",
       "       [0.33896385, 0.66103615]])"
      ]
     },
     "execution_count": 118,
     "metadata": {},
     "output_type": "execute_result"
    }
   ],
   "source": [
    "# To get prediction probabilities for test data\n",
    "myforest_b.predict_proba(x_test_f_std)"
   ]
  },
  {
   "cell_type": "code",
   "execution_count": 119,
   "metadata": {},
   "outputs": [
    {
     "name": "stdout",
     "output_type": "stream",
     "text": [
      "              precision    recall  f1-score   support\n",
      "\n",
      "           0       0.72      0.77      0.75      7110\n",
      "           1       0.74      0.70      0.72      6890\n",
      "\n",
      "    accuracy                           0.73     14000\n",
      "   macro avg       0.73      0.73      0.73     14000\n",
      "weighted avg       0.73      0.73      0.73     14000\n",
      "\n"
     ]
    }
   ],
   "source": [
    "# To print classification report\n",
    "print(classification_report(y_test_f, myforest_b.predict(x_test_f_std)))"
   ]
  },
  {
   "cell_type": "code",
   "execution_count": 120,
   "metadata": {},
   "outputs": [],
   "source": [
    "# To calculate confusion matrix\n",
    "cm=confusion_matrix(y_test_f, myforest_b.predict(x_test_f_std))"
   ]
  },
  {
   "cell_type": "code",
   "execution_count": 121,
   "metadata": {},
   "outputs": [
    {
     "data": {
      "text/plain": [
       "<sklearn.metrics._plot.confusion_matrix.ConfusionMatrixDisplay at 0x18b15d9c9a0>"
      ]
     },
     "execution_count": 121,
     "metadata": {},
     "output_type": "execute_result"
    },
    {
     "data": {
      "image/png": "[encoded data removed]",
      "text/plain": [
       "<Figure size 432x288 with 2 Axes>"
      ]
     },
     "metadata": {
      "needs_background": "light"
     },
     "output_type": "display_data"
    }
   ],
   "source": [
    "# To plot the confusion matrix\n",
    "disp=ConfusionMatrixDisplay(confusion_matrix=cm)\n",
    "disp.plot()"
   ]
  },
  {
   "cell_type": "code",
   "execution_count": 122,
   "metadata": {},
   "outputs": [],
   "source": [
    "# k-NN"
   ]
  },
  {
   "cell_type": "code",
   "execution_count": 123,
   "metadata": {},
   "outputs": [],
   "source": [
    "# To split dataset into training and test sets\n",
    "features = ['age','gender','height','weight','ap_hi','ap_lo','cholesterol','gluc','smoke','alco','active']\n",
    "x_train_k, x_test_k, y_train_k, y_test_k = train_test_split(mydf[features], mydf['cardio'], test_size=0.20, random_state=1234)"
   ]
  },
  {
   "cell_type": "code",
   "execution_count": 124,
   "metadata": {},
   "outputs": [],
   "source": [
    "# To initialize the StandardScaler\n",
    "scaler = StandardScaler()"
   ]
  },
  {
   "cell_type": "code",
   "execution_count": 125,
   "metadata": {},
   "outputs": [],
   "source": [
    "# Apply StandardScaler for normal distribution\n",
    "x_train_k_std=scaler.fit_transform(x_train_k)\n",
    "x_test_k_std=scaler.transform(x_test_k)"
   ]
  },
  {
   "cell_type": "code",
   "execution_count": 126,
   "metadata": {},
   "outputs": [],
   "source": [
    "# To identify k-NN\n",
    "knn=KNeighborsClassifier(n_neighbors=5, metric=\"minkowski\", p=2)"
   ]
  },
  {
   "cell_type": "code",
   "execution_count": 127,
   "metadata": {},
   "outputs": [
    {
     "data": {
      "text/plain": [
       "KNeighborsClassifier()"
      ]
     },
     "execution_count": 127,
     "metadata": {},
     "output_type": "execute_result"
    }
   ],
   "source": [
    "# To train the k-NN with training data\n",
    "knn.fit(x_train_k_std, y_train_k)"
   ]
  },
  {
   "cell_type": "code",
   "execution_count": 128,
   "metadata": {},
   "outputs": [],
   "source": [
    "# To make predictions for test data\n",
    "y_predict_k = knn.predict(x_test_k_std)"
   ]
  },
  {
   "cell_type": "code",
   "execution_count": 129,
   "metadata": {},
   "outputs": [
    {
     "data": {
      "text/plain": [
       "array([0, 0, 0, ..., 1, 1, 1], dtype=int64)"
      ]
     },
     "execution_count": 129,
     "metadata": {},
     "output_type": "execute_result"
    }
   ],
   "source": [
    "y_predict_k"
   ]
  },
  {
   "cell_type": "code",
   "execution_count": 130,
   "metadata": {},
   "outputs": [
    {
     "name": "stdout",
     "output_type": "stream",
     "text": [
      "              precision    recall  f1-score   support\n",
      "\n",
      "           0       0.65      0.66      0.66      7110\n",
      "           1       0.64      0.63      0.64      6890\n",
      "\n",
      "    accuracy                           0.65     14000\n",
      "   macro avg       0.65      0.65      0.65     14000\n",
      "weighted avg       0.65      0.65      0.65     14000\n",
      "\n"
     ]
    }
   ],
   "source": [
    "# To print classification report\n",
    "print(classification_report(y_test_k, knn.predict(x_test_k_std)))"
   ]
  },
  {
   "cell_type": "code",
   "execution_count": 131,
   "metadata": {},
   "outputs": [
    {
     "name": "stdout",
     "output_type": "stream",
     "text": [
      "Accuracy: 0.6461428571428571\n",
      "Precision: 0.6461428571428571\n",
      "Recall: 0.6461428571428571\n",
      "F1 Score: 0.6461428571428571\n",
      "Fβ Score: 0.6461428571428571\n"
     ]
    }
   ],
   "source": [
    "# To calculate performance\n",
    "accuracy_score_k = accuracy_score(y_test_k, y_predict_k)\n",
    "precision_score_k = precision_score(y_test_k, y_predict_k, average =\"micro\")\n",
    "recall_score_k = recall_score(y_test_k, y_predict_k, average=\"micro\")\n",
    "f1_score_k = f1_score(y_test_k, y_predict_k, average=\"micro\")\n",
    "fbeta_score_k = fbeta_score(y_test_k, y_predict_k, beta=2, average=\"micro\")\n",
    "\n",
    "# To write performance\n",
    "print(f'Accuracy: {accuracy_score_k}')\n",
    "print(f'Precision: {precision_score_k}')\n",
    "print(f'Recall: {recall_score_k}')\n",
    "print(f'F1 Score: {f1_score_k}')\n",
    "print(f'Fβ Score: {fbeta_score_k}')"
   ]
  },
  {
   "cell_type": "code",
   "execution_count": 132,
   "metadata": {},
   "outputs": [],
   "source": [
    "# To identify different parameters to be tried in the model\n",
    "grid_params_k={\n",
    "    \"n_neighbors\":[3,5,7,11,19],\n",
    "    \"weights\":[\"uniform\", \"distance\"]\n",
    "}\n",
    "\n",
    "# To create the model and setting its parameter\n",
    "grid_search_k = GridSearchCV(knn, grid_params_k, verbose=1, scoring=\"f1\", cv=5, n_jobs=-1)"
   ]
  },
  {
   "cell_type": "code",
   "execution_count": 133,
   "metadata": {},
   "outputs": [
    {
     "data": {
      "text/plain": [
       "GridSearchCV(cv=5, estimator=KNeighborsClassifier(), n_jobs=-1,\n",
       "             param_grid={'n_neighbors': [3, 5, 7, 11, 19],\n",
       "                         'weights': ['uniform', 'distance']},\n",
       "             scoring='f1', verbose=1)"
      ]
     },
     "execution_count": 133,
     "metadata": {},
     "output_type": "execute_result"
    }
   ],
   "source": [
    "# It aims to find the best parameters among the options given for the model and to evaluate the performance of the model.\n",
    "grid_search_k"
   ]
  },
  {
   "cell_type": "code",
   "execution_count": 134,
   "metadata": {
    "scrolled": true
   },
   "outputs": [
    {
     "name": "stdout",
     "output_type": "stream",
     "text": [
      "Fitting 5 folds for each of 10 candidates, totalling 50 fits\n"
     ]
    },
    {
     "name": "stderr",
     "output_type": "stream",
     "text": [
      "[Parallel(n_jobs=-1)]: Using backend LokyBackend with 12 concurrent workers.\n",
      "[Parallel(n_jobs=-1)]: Done  26 tasks      | elapsed:   32.6s\n",
      "[Parallel(n_jobs=-1)]: Done  50 out of  50 | elapsed:   53.3s finished\n"
     ]
    },
    {
     "data": {
      "text/plain": [
       "GridSearchCV(cv=5, estimator=KNeighborsClassifier(), n_jobs=-1,\n",
       "             param_grid={'n_neighbors': [3, 5, 7, 11, 19],\n",
       "                         'weights': ['uniform', 'distance']},\n",
       "             scoring='f1', verbose=1)"
      ]
     },
     "execution_count": 134,
     "metadata": {},
     "output_type": "execute_result"
    }
   ],
   "source": [
    "# To train the grid search with training data\n",
    "grid_search_k.fit(x_train_k_std,y_train_k)"
   ]
  },
  {
   "cell_type": "code",
   "execution_count": 135,
   "metadata": {},
   "outputs": [
    {
     "data": {
      "text/html": [
       "<div>\n",
       "<style scoped>\n",
       "    .dataframe tbody tr th:only-of-type {\n",
       "        vertical-align: middle;\n",
       "    }\n",
       "\n",
       "    .dataframe tbody tr th {\n",
       "        vertical-align: top;\n",
       "    }\n",
       "\n",
       "    .dataframe thead th {\n",
       "        text-align: right;\n",
       "    }\n",
       "</style>\n",
       "<table border=\"1\" class=\"dataframe\">\n",
       "  <thead>\n",
       "    <tr style=\"text-align: right;\">\n",
       "      <th></th>\n",
       "      <th>mean_fit_time</th>\n",
       "      <th>std_fit_time</th>\n",
       "      <th>mean_score_time</th>\n",
       "      <th>std_score_time</th>\n",
       "      <th>param_n_neighbors</th>\n",
       "      <th>param_weights</th>\n",
       "      <th>params</th>\n",
       "      <th>split0_test_score</th>\n",
       "      <th>split1_test_score</th>\n",
       "      <th>split2_test_score</th>\n",
       "      <th>split3_test_score</th>\n",
       "      <th>split4_test_score</th>\n",
       "      <th>mean_test_score</th>\n",
       "      <th>std_test_score</th>\n",
       "      <th>rank_test_score</th>\n",
       "    </tr>\n",
       "  </thead>\n",
       "  <tbody>\n",
       "    <tr>\n",
       "      <th>0</th>\n",
       "      <td>1.744275</td>\n",
       "      <td>0.225613</td>\n",
       "      <td>8.411477</td>\n",
       "      <td>0.098688</td>\n",
       "      <td>3</td>\n",
       "      <td>uniform</td>\n",
       "      <td>{'n_neighbors': 3, 'weights': 'uniform'}</td>\n",
       "      <td>0.622812</td>\n",
       "      <td>0.633101</td>\n",
       "      <td>0.622744</td>\n",
       "      <td>0.631991</td>\n",
       "      <td>0.624116</td>\n",
       "      <td>0.626953</td>\n",
       "      <td>0.004606</td>\n",
       "      <td>9</td>\n",
       "    </tr>\n",
       "    <tr>\n",
       "      <th>1</th>\n",
       "      <td>2.156947</td>\n",
       "      <td>0.287584</td>\n",
       "      <td>8.054499</td>\n",
       "      <td>0.230843</td>\n",
       "      <td>3</td>\n",
       "      <td>distance</td>\n",
       "      <td>{'n_neighbors': 3, 'weights': 'distance'}</td>\n",
       "      <td>0.621685</td>\n",
       "      <td>0.629626</td>\n",
       "      <td>0.619787</td>\n",
       "      <td>0.629747</td>\n",
       "      <td>0.622057</td>\n",
       "      <td>0.624581</td>\n",
       "      <td>0.004240</td>\n",
       "      <td>10</td>\n",
       "    </tr>\n",
       "    <tr>\n",
       "      <th>2</th>\n",
       "      <td>1.575669</td>\n",
       "      <td>0.183502</td>\n",
       "      <td>9.724616</td>\n",
       "      <td>0.120935</td>\n",
       "      <td>5</td>\n",
       "      <td>uniform</td>\n",
       "      <td>{'n_neighbors': 5, 'weights': 'uniform'}</td>\n",
       "      <td>0.634319</td>\n",
       "      <td>0.642747</td>\n",
       "      <td>0.632528</td>\n",
       "      <td>0.636247</td>\n",
       "      <td>0.640471</td>\n",
       "      <td>0.637263</td>\n",
       "      <td>0.003807</td>\n",
       "      <td>7</td>\n",
       "    </tr>\n",
       "    <tr>\n",
       "      <th>3</th>\n",
       "      <td>1.620387</td>\n",
       "      <td>0.102384</td>\n",
       "      <td>9.527005</td>\n",
       "      <td>0.111866</td>\n",
       "      <td>5</td>\n",
       "      <td>distance</td>\n",
       "      <td>{'n_neighbors': 5, 'weights': 'distance'}</td>\n",
       "      <td>0.631541</td>\n",
       "      <td>0.640759</td>\n",
       "      <td>0.628908</td>\n",
       "      <td>0.635619</td>\n",
       "      <td>0.639205</td>\n",
       "      <td>0.635206</td>\n",
       "      <td>0.004474</td>\n",
       "      <td>8</td>\n",
       "    </tr>\n",
       "    <tr>\n",
       "      <th>4</th>\n",
       "      <td>1.463785</td>\n",
       "      <td>0.203581</td>\n",
       "      <td>10.895305</td>\n",
       "      <td>0.196295</td>\n",
       "      <td>7</td>\n",
       "      <td>uniform</td>\n",
       "      <td>{'n_neighbors': 7, 'weights': 'uniform'}</td>\n",
       "      <td>0.643349</td>\n",
       "      <td>0.640904</td>\n",
       "      <td>0.644077</td>\n",
       "      <td>0.643131</td>\n",
       "      <td>0.646107</td>\n",
       "      <td>0.643514</td>\n",
       "      <td>0.001675</td>\n",
       "      <td>5</td>\n",
       "    </tr>\n",
       "    <tr>\n",
       "      <th>5</th>\n",
       "      <td>1.420367</td>\n",
       "      <td>0.064022</td>\n",
       "      <td>10.458461</td>\n",
       "      <td>0.074810</td>\n",
       "      <td>7</td>\n",
       "      <td>distance</td>\n",
       "      <td>{'n_neighbors': 7, 'weights': 'distance'}</td>\n",
       "      <td>0.640580</td>\n",
       "      <td>0.641551</td>\n",
       "      <td>0.639457</td>\n",
       "      <td>0.643391</td>\n",
       "      <td>0.645737</td>\n",
       "      <td>0.642143</td>\n",
       "      <td>0.002213</td>\n",
       "      <td>6</td>\n",
       "    </tr>\n",
       "    <tr>\n",
       "      <th>6</th>\n",
       "      <td>1.328251</td>\n",
       "      <td>0.059368</td>\n",
       "      <td>12.414728</td>\n",
       "      <td>0.159803</td>\n",
       "      <td>11</td>\n",
       "      <td>uniform</td>\n",
       "      <td>{'n_neighbors': 11, 'weights': 'uniform'}</td>\n",
       "      <td>0.646187</td>\n",
       "      <td>0.644678</td>\n",
       "      <td>0.651409</td>\n",
       "      <td>0.648307</td>\n",
       "      <td>0.649673</td>\n",
       "      <td>0.648051</td>\n",
       "      <td>0.002401</td>\n",
       "      <td>3</td>\n",
       "    </tr>\n",
       "    <tr>\n",
       "      <th>7</th>\n",
       "      <td>1.322729</td>\n",
       "      <td>0.058125</td>\n",
       "      <td>12.049413</td>\n",
       "      <td>0.262888</td>\n",
       "      <td>11</td>\n",
       "      <td>distance</td>\n",
       "      <td>{'n_neighbors': 11, 'weights': 'distance'}</td>\n",
       "      <td>0.647314</td>\n",
       "      <td>0.645731</td>\n",
       "      <td>0.645897</td>\n",
       "      <td>0.647327</td>\n",
       "      <td>0.650844</td>\n",
       "      <td>0.647423</td>\n",
       "      <td>0.001839</td>\n",
       "      <td>4</td>\n",
       "    </tr>\n",
       "    <tr>\n",
       "      <th>8</th>\n",
       "      <td>1.301225</td>\n",
       "      <td>0.053386</td>\n",
       "      <td>14.077535</td>\n",
       "      <td>0.531252</td>\n",
       "      <td>19</td>\n",
       "      <td>uniform</td>\n",
       "      <td>{'n_neighbors': 19, 'weights': 'uniform'}</td>\n",
       "      <td>0.653909</td>\n",
       "      <td>0.652333</td>\n",
       "      <td>0.652583</td>\n",
       "      <td>0.652449</td>\n",
       "      <td>0.656971</td>\n",
       "      <td>0.653649</td>\n",
       "      <td>0.001756</td>\n",
       "      <td>1</td>\n",
       "    </tr>\n",
       "    <tr>\n",
       "      <th>9</th>\n",
       "      <td>1.259567</td>\n",
       "      <td>0.033702</td>\n",
       "      <td>10.205542</td>\n",
       "      <td>2.998033</td>\n",
       "      <td>19</td>\n",
       "      <td>distance</td>\n",
       "      <td>{'n_neighbors': 19, 'weights': 'distance'}</td>\n",
       "      <td>0.652498</td>\n",
       "      <td>0.651980</td>\n",
       "      <td>0.650981</td>\n",
       "      <td>0.651176</td>\n",
       "      <td>0.655723</td>\n",
       "      <td>0.652471</td>\n",
       "      <td>0.001715</td>\n",
       "      <td>2</td>\n",
       "    </tr>\n",
       "  </tbody>\n",
       "</table>\n",
       "</div>"
      ],
      "text/plain": [
       "   mean_fit_time  std_fit_time  mean_score_time  std_score_time  \\\n",
       "0       1.744275      0.225613         8.411477        0.098688   \n",
       "1       2.156947      0.287584         8.054499        0.230843   \n",
       "2       1.575669      0.183502         9.724616        0.120935   \n",
       "3       1.620387      0.102384         9.527005        0.111866   \n",
       "4       1.463785      0.203581        10.895305        0.196295   \n",
       "5       1.420367      0.064022        10.458461        0.074810   \n",
       "6       1.328251      0.059368        12.414728        0.159803   \n",
       "7       1.322729      0.058125        12.049413        0.262888   \n",
       "8       1.301225      0.053386        14.077535        0.531252   \n",
       "9       1.259567      0.033702        10.205542        2.998033   \n",
       "\n",
       "  param_n_neighbors param_weights                                      params  \\\n",
       "0                 3       uniform    {'n_neighbors': 3, 'weights': 'uniform'}   \n",
       "1                 3      distance   {'n_neighbors': 3, 'weights': 'distance'}   \n",
       "2                 5       uniform    {'n_neighbors': 5, 'weights': 'uniform'}   \n",
       "3                 5      distance   {'n_neighbors': 5, 'weights': 'distance'}   \n",
       "4                 7       uniform    {'n_neighbors': 7, 'weights': 'uniform'}   \n",
       "5                 7      distance   {'n_neighbors': 7, 'weights': 'distance'}   \n",
       "6                11       uniform   {'n_neighbors': 11, 'weights': 'uniform'}   \n",
       "7                11      distance  {'n_neighbors': 11, 'weights': 'distance'}   \n",
       "8                19       uniform   {'n_neighbors': 19, 'weights': 'uniform'}   \n",
       "9                19      distance  {'n_neighbors': 19, 'weights': 'distance'}   \n",
       "\n",
       "   split0_test_score  split1_test_score  split2_test_score  split3_test_score  \\\n",
       "0           0.622812           0.633101           0.622744           0.631991   \n",
       "1           0.621685           0.629626           0.619787           0.629747   \n",
       "2           0.634319           0.642747           0.632528           0.636247   \n",
       "3           0.631541           0.640759           0.628908           0.635619   \n",
       "4           0.643349           0.640904           0.644077           0.643131   \n",
       "5           0.640580           0.641551           0.639457           0.643391   \n",
       "6           0.646187           0.644678           0.651409           0.648307   \n",
       "7           0.647314           0.645731           0.645897           0.647327   \n",
       "8           0.653909           0.652333           0.652583           0.652449   \n",
       "9           0.652498           0.651980           0.650981           0.651176   \n",
       "\n",
       "   split4_test_score  mean_test_score  std_test_score  rank_test_score  \n",
       "0           0.624116         0.626953        0.004606                9  \n",
       "1           0.622057         0.624581        0.004240               10  \n",
       "2           0.640471         0.637263        0.003807                7  \n",
       "3           0.639205         0.635206        0.004474                8  \n",
       "4           0.646107         0.643514        0.001675                5  \n",
       "5           0.645737         0.642143        0.002213                6  \n",
       "6           0.649673         0.648051        0.002401                3  \n",
       "7           0.650844         0.647423        0.001839                4  \n",
       "8           0.656971         0.653649        0.001756                1  \n",
       "9           0.655723         0.652471        0.001715                2  "
      ]
     },
     "execution_count": 135,
     "metadata": {},
     "output_type": "execute_result"
    }
   ],
   "source": [
    "# Get the results of the grid search\n",
    "grid_results_k = pd.DataFrame(grid_search_k.cv_results_)\n",
    "grid_results_k"
   ]
  },
  {
   "cell_type": "code",
   "execution_count": 136,
   "metadata": {},
   "outputs": [
    {
     "data": {
      "text/html": [
       "<div>\n",
       "<style scoped>\n",
       "    .dataframe tbody tr th:only-of-type {\n",
       "        vertical-align: middle;\n",
       "    }\n",
       "\n",
       "    .dataframe tbody tr th {\n",
       "        vertical-align: top;\n",
       "    }\n",
       "\n",
       "    .dataframe thead th {\n",
       "        text-align: right;\n",
       "    }\n",
       "</style>\n",
       "<table border=\"1\" class=\"dataframe\">\n",
       "  <thead>\n",
       "    <tr style=\"text-align: right;\">\n",
       "      <th></th>\n",
       "      <th>param_n_neighbors</th>\n",
       "      <th>param_weights</th>\n",
       "      <th>rank_test_score</th>\n",
       "    </tr>\n",
       "  </thead>\n",
       "  <tbody>\n",
       "    <tr>\n",
       "      <th>0</th>\n",
       "      <td>3</td>\n",
       "      <td>uniform</td>\n",
       "      <td>9</td>\n",
       "    </tr>\n",
       "    <tr>\n",
       "      <th>1</th>\n",
       "      <td>3</td>\n",
       "      <td>distance</td>\n",
       "      <td>10</td>\n",
       "    </tr>\n",
       "    <tr>\n",
       "      <th>2</th>\n",
       "      <td>5</td>\n",
       "      <td>uniform</td>\n",
       "      <td>7</td>\n",
       "    </tr>\n",
       "    <tr>\n",
       "      <th>3</th>\n",
       "      <td>5</td>\n",
       "      <td>distance</td>\n",
       "      <td>8</td>\n",
       "    </tr>\n",
       "    <tr>\n",
       "      <th>4</th>\n",
       "      <td>7</td>\n",
       "      <td>uniform</td>\n",
       "      <td>5</td>\n",
       "    </tr>\n",
       "    <tr>\n",
       "      <th>5</th>\n",
       "      <td>7</td>\n",
       "      <td>distance</td>\n",
       "      <td>6</td>\n",
       "    </tr>\n",
       "    <tr>\n",
       "      <th>6</th>\n",
       "      <td>11</td>\n",
       "      <td>uniform</td>\n",
       "      <td>3</td>\n",
       "    </tr>\n",
       "    <tr>\n",
       "      <th>7</th>\n",
       "      <td>11</td>\n",
       "      <td>distance</td>\n",
       "      <td>4</td>\n",
       "    </tr>\n",
       "    <tr>\n",
       "      <th>8</th>\n",
       "      <td>19</td>\n",
       "      <td>uniform</td>\n",
       "      <td>1</td>\n",
       "    </tr>\n",
       "    <tr>\n",
       "      <th>9</th>\n",
       "      <td>19</td>\n",
       "      <td>distance</td>\n",
       "      <td>2</td>\n",
       "    </tr>\n",
       "  </tbody>\n",
       "</table>\n",
       "</div>"
      ],
      "text/plain": [
       "  param_n_neighbors param_weights  rank_test_score\n",
       "0                 3       uniform                9\n",
       "1                 3      distance               10\n",
       "2                 5       uniform                7\n",
       "3                 5      distance                8\n",
       "4                 7       uniform                5\n",
       "5                 7      distance                6\n",
       "6                11       uniform                3\n",
       "7                11      distance                4\n",
       "8                19       uniform                1\n",
       "9                19      distance                2"
      ]
     },
     "execution_count": 136,
     "metadata": {},
     "output_type": "execute_result"
    }
   ],
   "source": [
    "# Get the results of the grid search\n",
    "grid_resultss_k = grid_results_k[['param_n_neighbors', 'param_weights', 'rank_test_score']]\n",
    "grid_resultss_k"
   ]
  },
  {
   "cell_type": "code",
   "execution_count": 137,
   "metadata": {},
   "outputs": [
    {
     "data": {
      "image/png": "[encoded data removed]",
      "text/plain": [
       "<Figure size 864x576 with 2 Axes>"
      ]
     },
     "metadata": {
      "needs_background": "light"
     },
     "output_type": "display_data"
    }
   ],
   "source": [
    "# To create a colorbar and scatter to compare the performance of the different hyperparameters\n",
    "df = pd.DataFrame( {\n",
    "   'param_n_neighbors': [3, 3, 5, 5, 7, 7, 11, 11, 19, 19],\n",
    "    'param_weights': ['uniform', 'distance', 'uniform', 'distance', 'uniform', 'distance', 'uniform', 'distance', 'uniform', 'distance'],\n",
    "    'rank_test_score': [9, 10, 7, 8, 5, 6, 3, 4, 1, 2]\n",
    "})\n",
    "\n",
    "plt.figure(figsize=(12, 8))\n",
    "scatter = plt.scatter(df['param_n_neighbors'], df['param_weights'], c=df['rank_test_score'], cmap='viridis', alpha=0.7)\n",
    "plt.colorbar(scatter, label='Rank Test Score')\n",
    "\n",
    "plt.title('Hyperparameters vs Rank Test Score')\n",
    "plt.xlabel('Number of Neighbors')\n",
    "plt.ylabel('Weights')\n",
    "\n",
    "plt.show()"
   ]
  },
  {
   "cell_type": "code",
   "execution_count": 138,
   "metadata": {},
   "outputs": [
    {
     "data": {
      "text/plain": [
       "KNeighborsClassifier(n_neighbors=19)"
      ]
     },
     "execution_count": 138,
     "metadata": {},
     "output_type": "execute_result"
    }
   ],
   "source": [
    "# To print best estimator\n",
    "grid_search_k.best_estimator_"
   ]
  },
  {
   "cell_type": "code",
   "execution_count": 139,
   "metadata": {},
   "outputs": [
    {
     "data": {
      "text/plain": [
       "array([0, 0, 0, ..., 1, 0, 1], dtype=int64)"
      ]
     },
     "execution_count": 139,
     "metadata": {},
     "output_type": "execute_result"
    }
   ],
   "source": [
    "# To make predictions for test data\n",
    "grid_search_k.best_estimator_.predict(x_test_k_std)"
   ]
  },
  {
   "cell_type": "code",
   "execution_count": 140,
   "metadata": {},
   "outputs": [
    {
     "data": {
      "text/plain": [
       "{'n_neighbors': 19, 'weights': 'uniform'}"
      ]
     },
     "execution_count": 140,
     "metadata": {},
     "output_type": "execute_result"
    }
   ],
   "source": [
    "# To print best parameters\n",
    "grid_search_k.best_params_"
   ]
  },
  {
   "cell_type": "code",
   "execution_count": 141,
   "metadata": {},
   "outputs": [
    {
     "data": {
      "text/plain": [
       "0.6536491376699516"
      ]
     },
     "execution_count": 141,
     "metadata": {},
     "output_type": "execute_result"
    }
   ],
   "source": [
    "# To print best score\n",
    "grid_search_k.best_score_"
   ]
  },
  {
   "cell_type": "code",
   "execution_count": 142,
   "metadata": {},
   "outputs": [],
   "source": [
    "# To identify k-NN according to best parameters\n",
    "knn_b=KNeighborsClassifier(n_neighbors=19, weights=\"uniform\")"
   ]
  },
  {
   "cell_type": "code",
   "execution_count": 143,
   "metadata": {},
   "outputs": [
    {
     "data": {
      "text/plain": [
       "KNeighborsClassifier(n_neighbors=19)"
      ]
     },
     "execution_count": 143,
     "metadata": {},
     "output_type": "execute_result"
    }
   ],
   "source": [
    "# To train the k-NN with training data\n",
    "knn_b.fit(x_train_k_std, y_train_k)"
   ]
  },
  {
   "cell_type": "code",
   "execution_count": 144,
   "metadata": {},
   "outputs": [],
   "source": [
    "# To make predictions for test data\n",
    "y_predict_k_b = knn_b.predict(x_test_k_std)"
   ]
  },
  {
   "cell_type": "code",
   "execution_count": 145,
   "metadata": {},
   "outputs": [
    {
     "data": {
      "text/plain": [
       "array([0, 0, 0, ..., 1, 0, 1], dtype=int64)"
      ]
     },
     "execution_count": 145,
     "metadata": {},
     "output_type": "execute_result"
    }
   ],
   "source": [
    "y_predict_k_b"
   ]
  },
  {
   "cell_type": "code",
   "execution_count": 146,
   "metadata": {},
   "outputs": [
    {
     "name": "stdout",
     "output_type": "stream",
     "text": [
      "Accuracy: 0.6676428571428571\n",
      "Precision: 0.6676428571428571\n",
      "Recall: 0.6676428571428571\n",
      "F1 Score: 0.6676428571428571\n",
      "Fβ Score: 0.6676428571428571\n"
     ]
    }
   ],
   "source": [
    "# To calculate performance\n",
    "accuracy_score_k_b = accuracy_score(y_test_k, y_predict_k_b)\n",
    "precision_score_k_b = precision_score(y_test_k, y_predict_k_b, average =\"micro\")\n",
    "recall_score_k_b = recall_score(y_test_k, y_predict_k_b, average=\"micro\")\n",
    "f1_score_k_b = f1_score(y_test_k, y_predict_k_b, average=\"micro\")\n",
    "fbeta_score_k_b = fbeta_score(y_test_k, y_predict_k_b, beta=2, average=\"micro\")\n",
    "\n",
    "# To write performance\n",
    "print(f'Accuracy: {accuracy_score_k_b}')\n",
    "print(f'Precision: {precision_score_k_b}')\n",
    "print(f'Recall: {recall_score_k_b}')\n",
    "print(f'F1 Score: {f1_score_k_b}')\n",
    "print(f\"Fβ Score:\", fbeta_score_k_b)"
   ]
  },
  {
   "cell_type": "code",
   "execution_count": 147,
   "metadata": {},
   "outputs": [
    {
     "name": "stdout",
     "output_type": "stream",
     "text": [
      "              precision    recall  f1-score   support\n",
      "\n",
      "           0       0.67      0.69      0.68      7110\n",
      "           1       0.67      0.64      0.66      6890\n",
      "\n",
      "    accuracy                           0.67     14000\n",
      "   macro avg       0.67      0.67      0.67     14000\n",
      "weighted avg       0.67      0.67      0.67     14000\n",
      "\n"
     ]
    }
   ],
   "source": [
    "# To print classification report\n",
    "print(classification_report(y_test_k, knn_b.predict(x_test_k_std)))"
   ]
  },
  {
   "cell_type": "code",
   "execution_count": 148,
   "metadata": {},
   "outputs": [],
   "source": [
    "# To calculate confusion matrix\n",
    "cm=confusion_matrix(y_test_k, knn_b.predict(x_test_k_std))"
   ]
  },
  {
   "cell_type": "code",
   "execution_count": 149,
   "metadata": {},
   "outputs": [
    {
     "data": {
      "text/plain": [
       "<sklearn.metrics._plot.confusion_matrix.ConfusionMatrixDisplay at 0x18b16521c40>"
      ]
     },
     "execution_count": 149,
     "metadata": {},
     "output_type": "execute_result"
    },
    {
     "data": {
      "image/png": "[encoded data removed]",
      "text/plain": [
       "<Figure size 432x288 with 2 Axes>"
      ]
     },
     "metadata": {
      "needs_background": "light"
     },
     "output_type": "display_data"
    }
   ],
   "source": [
    "# To plot the confusion matrix\n",
    "disp=ConfusionMatrixDisplay(confusion_matrix=cm)\n",
    "disp.plot()"
   ]
  },
  {
   "cell_type": "code",
   "execution_count": 150,
   "metadata": {},
   "outputs": [],
   "source": [
    "# Naive Bayes"
   ]
  },
  {
   "cell_type": "code",
   "execution_count": 151,
   "metadata": {},
   "outputs": [],
   "source": [
    "# To split dataset into training and test sets\n",
    "features = ['age','gender','height','weight','ap_hi','ap_lo','cholesterol','gluc','smoke','alco','active']\n",
    "x_train_n, x_test_n, y_train_n, y_test_n = train_test_split(mydf[features], mydf['cardio'], test_size=0.20, random_state=1234)"
   ]
  },
  {
   "cell_type": "code",
   "execution_count": 152,
   "metadata": {},
   "outputs": [],
   "source": [
    "# To initialize the StandardScaler\n",
    "scaler = StandardScaler()"
   ]
  },
  {
   "cell_type": "code",
   "execution_count": 153,
   "metadata": {},
   "outputs": [],
   "source": [
    "# Apply StandardScaler for normal distribution\n",
    "x_train_n_std=scaler.fit_transform(x_train_n)\n",
    "x_test_n_std=scaler.transform(x_test_n)"
   ]
  },
  {
   "cell_type": "code",
   "execution_count": 154,
   "metadata": {},
   "outputs": [],
   "source": [
    "# To identify Naive Bayes\n",
    "mynaive = GaussianNB()"
   ]
  },
  {
   "cell_type": "code",
   "execution_count": 155,
   "metadata": {},
   "outputs": [
    {
     "data": {
      "text/plain": [
       "GaussianNB()"
      ]
     },
     "execution_count": 155,
     "metadata": {},
     "output_type": "execute_result"
    }
   ],
   "source": [
    "# To train the Naive Bayes with training data\n",
    "mynaive.fit(x_train_n_std,y_train_n)"
   ]
  },
  {
   "cell_type": "code",
   "execution_count": 156,
   "metadata": {},
   "outputs": [],
   "source": [
    "# To make predictions for test data\n",
    "y_predict_n = mynaive.predict(x_test_n_std)"
   ]
  },
  {
   "cell_type": "code",
   "execution_count": 157,
   "metadata": {},
   "outputs": [
    {
     "data": {
      "text/plain": [
       "array([0, 0, 0, ..., 0, 0, 0], dtype=int64)"
      ]
     },
     "execution_count": 157,
     "metadata": {},
     "output_type": "execute_result"
    }
   ],
   "source": [
    "y_predict_n"
   ]
  },
  {
   "cell_type": "code",
   "execution_count": 158,
   "metadata": {},
   "outputs": [
    {
     "data": {
      "text/plain": [
       "array([[0.85408808, 0.14591192],\n",
       "       [0.84895037, 0.15104963],\n",
       "       [0.90311835, 0.09688165],\n",
       "       ...,\n",
       "       [0.82979711, 0.17020289],\n",
       "       [0.86237002, 0.13762998],\n",
       "       [0.79770615, 0.20229385]])"
      ]
     },
     "execution_count": 158,
     "metadata": {},
     "output_type": "execute_result"
    }
   ],
   "source": [
    "# To get prediction probabilities for test data\n",
    "mynaive.predict_proba(x_test_n_std)"
   ]
  },
  {
   "cell_type": "code",
   "execution_count": 159,
   "metadata": {},
   "outputs": [
    {
     "name": "stdout",
     "output_type": "stream",
     "text": [
      "              precision    recall  f1-score   support\n",
      "\n",
      "           0       0.56      0.89      0.69      7110\n",
      "           1       0.72      0.28      0.41      6890\n",
      "\n",
      "    accuracy                           0.59     14000\n",
      "   macro avg       0.64      0.59      0.55     14000\n",
      "weighted avg       0.64      0.59      0.55     14000\n",
      "\n"
     ]
    }
   ],
   "source": [
    "# To print classification report\n",
    "print(classification_report(y_test_n, mynaive.predict(x_test_n_std)))"
   ]
  },
  {
   "cell_type": "code",
   "execution_count": 160,
   "metadata": {
    "scrolled": true
   },
   "outputs": [
    {
     "name": "stdout",
     "output_type": "stream",
     "text": [
      "Accuracy: 0.5928571428571429\n",
      "Precision: 0.5928571428571429\n",
      "Recall: 0.5928571428571429\n",
      "F1 Score: 0.5928571428571429\n",
      "Fβ Score: 0.5928571428571429\n"
     ]
    }
   ],
   "source": [
    "# To calculate performance\n",
    "accuracy_score_n = accuracy_score(y_test_n, y_predict_n)\n",
    "precision_score_n = precision_score(y_test_n, y_predict_n, average =\"micro\")\n",
    "recall_score_n = recall_score(y_test_n, y_predict_n, average=\"micro\")\n",
    "f1_score_n = f1_score(y_test_n, y_predict_n, average=\"micro\")\n",
    "fbeta_score_n = fbeta_score(y_test_n, y_predict_n, beta=2, average=\"micro\")\n",
    "\n",
    "# To write performance\n",
    "print(f'Accuracy: {accuracy_score_n}')\n",
    "print(f'Precision: {precision_score_n}')\n",
    "print(f'Recall: {recall_score_n}')\n",
    "print(f'F1 Score: {f1_score_n}')\n",
    "print(f\"Fβ Score:\", fbeta_score_n)"
   ]
  },
  {
   "cell_type": "code",
   "execution_count": 161,
   "metadata": {},
   "outputs": [],
   "source": [
    "# To calculate confusion matrix\n",
    "cm=confusion_matrix(y_test_n, mynaive.predict(x_test_n_std))"
   ]
  },
  {
   "cell_type": "code",
   "execution_count": 162,
   "metadata": {},
   "outputs": [
    {
     "data": {
      "text/plain": [
       "<sklearn.metrics._plot.confusion_matrix.ConfusionMatrixDisplay at 0x18b18cb7520>"
      ]
     },
     "execution_count": 162,
     "metadata": {},
     "output_type": "execute_result"
    },
    {
     "data": {
      "image/png": "[encoded data removed]",
      "text/plain": [
       "<Figure size 432x288 with 2 Axes>"
      ]
     },
     "metadata": {
      "needs_background": "light"
     },
     "output_type": "display_data"
    }
   ],
   "source": [
    "# To plot the confusion matrix\n",
    "disp=ConfusionMatrixDisplay(confusion_matrix=cm)\n",
    "disp.plot()"
   ]
  },
  {
   "cell_type": "code",
   "execution_count": 163,
   "metadata": {},
   "outputs": [
    {
     "data": {
      "image/png": "[encoded data removed]",
      "text/plain": [
       "<Figure size 576x432 with 1 Axes>"
      ]
     },
     "metadata": {
      "needs_background": "light"
     },
     "output_type": "display_data"
    }
   ],
   "source": [
    "# To create a bar graph to compare the accuracy scores of the algorithms\n",
    "algorithms = [\"Decision Tree\", \"Random Forest\", \"k-NN\", \"Naive Bayes\"]\n",
    "accuracy_scores = [accuracy_score_d_b, accuracy_score_f_b, accuracy_score_k_b, accuracy_score_n]\n",
    "\n",
    "plt.figure(figsize=(8, 6))\n",
    "plt.bar(algorithms, accuracy_scores)\n",
    "plt.xlabel(\"Algorithma\")\n",
    "plt.ylabel(\"Accuracy\")\n",
    "plt.title(\"Algorithma Accuracy Performance\")\n",
    "plt.xticks(rotation=45, ha=\"right\")\n",
    "plt.tight_layout()\n",
    "plt.show()"
   ]
  },
  {
   "cell_type": "code",
   "execution_count": 164,
   "metadata": {},
   "outputs": [
    {
     "data": {
      "image/png": "[encoded data removed]",
      "text/plain": [
       "<Figure size 576x432 with 1 Axes>"
      ]
     },
     "metadata": {
      "needs_background": "light"
     },
     "output_type": "display_data"
    }
   ],
   "source": [
    "# To create a bar graph to compare the precision scores of the algorithms\n",
    "algorithms = [\"Decision Tree\", \"Random Forest\", \"k-NN\", \"Naive Bayes\"]\n",
    "precision_score = [precision_score_d_b, precision_score_f_b, precision_score_k_b, precision_score_n]\n",
    "\n",
    "plt.figure(figsize=(8, 6))\n",
    "plt.bar(algorithms, precision_score)\n",
    "plt.xlabel(\"Algorithma\")\n",
    "plt.ylabel(\"Precision\")\n",
    "plt.title(\"Algorithma Precision Performance\")\n",
    "plt.xticks(rotation=45, ha=\"right\")\n",
    "plt.tight_layout()\n",
    "plt.show()"
   ]
  },
  {
   "cell_type": "code",
   "execution_count": 165,
   "metadata": {
    "scrolled": false
   },
   "outputs": [
    {
     "data": {
      "image/png": "[encoded data removed]",
      "text/plain": [
       "<Figure size 576x432 with 1 Axes>"
      ]
     },
     "metadata": {
      "needs_background": "light"
     },
     "output_type": "display_data"
    }
   ],
   "source": [
    "# To create a bar graph to compare the recall scores of the algorithms\n",
    "algorithms = [\"Decision Tree\", \"Random Forest\", \"k-NN\", \"Naive Bayes\"]\n",
    "recall_score = [recall_score_d_b, recall_score_f_b, recall_score_k_b, recall_score_n]\n",
    "\n",
    "plt.figure(figsize=(8, 6))\n",
    "plt.bar(algorithms, recall_score)\n",
    "plt.xlabel(\"Algorithma\")\n",
    "plt.ylabel(\"Recall\")\n",
    "plt.title(\"Algorithma Recall Performance\")\n",
    "plt.xticks(rotation=45, ha=\"right\")\n",
    "plt.tight_layout()\n",
    "plt.show()"
   ]
  },
  {
   "cell_type": "code",
   "execution_count": 166,
   "metadata": {},
   "outputs": [
    {
     "data": {
      "image/png": "[encoded data removed]",
      "text/plain": [
       "<Figure size 576x432 with 1 Axes>"
      ]
     },
     "metadata": {
      "needs_background": "light"
     },
     "output_type": "display_data"
    }
   ],
   "source": [
    "# To create a bar graph to compare the recall scores of the algorithms\n",
    "algorithms = [\"Decision Tree\", \"Random Forest\", \"k-NN\", \"Naive Bayes\"]\n",
    "f1_score = [f1_score_d_b, f1_score_f_b, f1_score_k_b, f1_score_n]\n",
    "\n",
    "plt.figure(figsize=(8, 6))\n",
    "plt.bar(algorithms, f1_score)\n",
    "plt.xlabel(\"Algorithma\")\n",
    "plt.ylabel(\"F1\")\n",
    "plt.title(\"Algorithma F1 Performance\")\n",
    "plt.xticks(rotation=45, ha=\"right\")\n",
    "plt.tight_layout()\n",
    "plt.show()"
   ]
  },
  {
   "cell_type": "code",
   "execution_count": 167,
   "metadata": {},
   "outputs": [
    {
     "data": {
      "image/png": "[encoded data removed]",
      "text/plain": [
       "<Figure size 576x432 with 1 Axes>"
      ]
     },
     "metadata": {
      "needs_background": "light"
     },
     "output_type": "display_data"
    }
   ],
   "source": [
    "# To create a bar graph to compare the recall scores of the algorithms\n",
    "algorithms = [\"Decision Tree\", \"Random Forest\", \"k-NN\", \"Naive Bayes\"]\n",
    "fbeta_score = [fbeta_score_d_b, fbeta_score_f_b, fbeta_score_k_b, fbeta_score_n]\n",
    "\n",
    "plt.figure(figsize=(8, 6))\n",
    "plt.bar(algorithms, fbeta_score)\n",
    "plt.xlabel(\"Algorithma\")\n",
    "plt.ylabel(\"FBeta\")\n",
    "plt.title(\"Algorithma FBeta Performance\")\n",
    "plt.xticks(rotation=45, ha=\"right\")\n",
    "plt.tight_layout()\n",
    "plt.show()"
   ]
  }
 ],
 "metadata": {
  "kernelspec": {
   "display_name": "Python 3",
   "language": "python",
   "name": "python3"
  },
  "language_info": {
   "codemirror_mode": {
    "name": "ipython",
    "version": 3
   },
   "file_extension": ".py",
   "mimetype": "text/x-python",
   "name": "python",
   "nbconvert_exporter": "python",
   "pygments_lexer": "ipython3",
   "version": "3.8.5"
  }
 },
 "nbformat": 4,
 "nbformat_minor": 4
}
