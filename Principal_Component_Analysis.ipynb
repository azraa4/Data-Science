{
 "cells": [
  {
   "cell_type": "code",
   "execution_count": 1,
   "metadata": {},
   "outputs": [],
   "source": [
    "import numpy as np\n",
    "import pandas as pd\n",
    "from sklearn.decomposition import PCA\n",
    "from sklearn.linear_model import LinearRegression\n",
    "from sklearn.metrics import mean_squared_error, mean_absolute_error, r2_score\n",
    "import matplotlib.pyplot as plt\n",
    "import matplotlib.pyplot as plt\n",
    "import seaborn as sns\n",
    "from sklearn.preprocessing import StandardScaler, LabelEncoder"
   ]
  },
  {
   "cell_type": "code",
   "execution_count": 2,
   "metadata": {},
   "outputs": [],
   "source": [
    "#REGRESSION WITH PCA"
   ]
  },
  {
   "cell_type": "code",
   "execution_count": 3,
   "metadata": {},
   "outputs": [],
   "source": [
    "#Data Preprocessing"
   ]
  },
  {
   "cell_type": "code",
   "execution_count": 4,
   "metadata": {},
   "outputs": [],
   "source": [
    "#To load the datasets\n",
    "measurement = pd.read_csv('measurements_test.csv')\n",
    "meta = pd.read_csv('hwg_metadata_test.csv')"
   ]
  },
  {
   "cell_type": "code",
   "execution_count": 5,
   "metadata": {},
   "outputs": [],
   "source": [
    "#To merge the datasets on \"subject_id\"\n",
    "test_data = pd.merge(measurement, meta, on='subject_id')"
   ]
  },
  {
   "cell_type": "code",
   "execution_count": 6,
   "metadata": {},
   "outputs": [],
   "source": [
    "#To drop the \"height_cm\" and \"subject_id\" columns\n",
    "test_data = test_data.drop(['height_cm', 'subject_id'], axis=1)"
   ]
  },
  {
   "cell_type": "code",
   "execution_count": 7,
   "metadata": {},
   "outputs": [],
   "source": [
    "#To encode the gender to numeric values\n",
    "encoder = LabelEncoder()\n",
    "test_data['gender'] = encoder.fit_transform(test_data['gender'])"
   ]
  },
  {
   "cell_type": "code",
   "execution_count": 8,
   "metadata": {},
   "outputs": [
    {
     "data": {
      "text/html": [
       "<div>\n",
       "<style scoped>\n",
       "    .dataframe tbody tr th:only-of-type {\n",
       "        vertical-align: middle;\n",
       "    }\n",
       "\n",
       "    .dataframe tbody tr th {\n",
       "        vertical-align: top;\n",
       "    }\n",
       "\n",
       "    .dataframe thead th {\n",
       "        text-align: right;\n",
       "    }\n",
       "</style>\n",
       "<table border=\"1\" class=\"dataframe\">\n",
       "  <thead>\n",
       "    <tr style=\"text-align: right;\">\n",
       "      <th></th>\n",
       "      <th>ankle</th>\n",
       "      <th>arm-length</th>\n",
       "      <th>bicep</th>\n",
       "      <th>calf</th>\n",
       "      <th>chest</th>\n",
       "      <th>forearm</th>\n",
       "      <th>height</th>\n",
       "      <th>hip</th>\n",
       "      <th>leg-length</th>\n",
       "      <th>shoulder-breadth</th>\n",
       "      <th>shoulder-to-crotch</th>\n",
       "      <th>thigh</th>\n",
       "      <th>waist</th>\n",
       "      <th>wrist</th>\n",
       "      <th>gender</th>\n",
       "      <th>weight_kg</th>\n",
       "    </tr>\n",
       "  </thead>\n",
       "  <tbody>\n",
       "    <tr>\n",
       "      <th>0</th>\n",
       "      <td>23.424223</td>\n",
       "      <td>47.128738</td>\n",
       "      <td>29.744926</td>\n",
       "      <td>37.697201</td>\n",
       "      <td>98.719429</td>\n",
       "      <td>25.687422</td>\n",
       "      <td>168.497925</td>\n",
       "      <td>101.086189</td>\n",
       "      <td>74.171860</td>\n",
       "      <td>37.112251</td>\n",
       "      <td>64.667030</td>\n",
       "      <td>52.378044</td>\n",
       "      <td>87.121025</td>\n",
       "      <td>16.179781</td>\n",
       "      <td>1</td>\n",
       "      <td>70.0</td>\n",
       "    </tr>\n",
       "    <tr>\n",
       "      <th>1</th>\n",
       "      <td>23.465136</td>\n",
       "      <td>48.513802</td>\n",
       "      <td>28.611294</td>\n",
       "      <td>33.724255</td>\n",
       "      <td>96.476715</td>\n",
       "      <td>24.859922</td>\n",
       "      <td>173.204254</td>\n",
       "      <td>98.461998</td>\n",
       "      <td>76.298210</td>\n",
       "      <td>35.401356</td>\n",
       "      <td>66.202171</td>\n",
       "      <td>48.386967</td>\n",
       "      <td>85.328270</td>\n",
       "      <td>16.165899</td>\n",
       "      <td>1</td>\n",
       "      <td>63.8</td>\n",
       "    </tr>\n",
       "    <tr>\n",
       "      <th>2</th>\n",
       "      <td>21.773336</td>\n",
       "      <td>45.142460</td>\n",
       "      <td>25.588623</td>\n",
       "      <td>32.983479</td>\n",
       "      <td>85.886726</td>\n",
       "      <td>21.981810</td>\n",
       "      <td>157.488388</td>\n",
       "      <td>89.685318</td>\n",
       "      <td>72.312012</td>\n",
       "      <td>31.207792</td>\n",
       "      <td>55.746342</td>\n",
       "      <td>46.059982</td>\n",
       "      <td>72.437881</td>\n",
       "      <td>14.523148</td>\n",
       "      <td>0</td>\n",
       "      <td>49.8</td>\n",
       "    </tr>\n",
       "    <tr>\n",
       "      <th>3</th>\n",
       "      <td>23.121952</td>\n",
       "      <td>47.717579</td>\n",
       "      <td>27.691643</td>\n",
       "      <td>36.397129</td>\n",
       "      <td>85.084686</td>\n",
       "      <td>23.563515</td>\n",
       "      <td>165.294891</td>\n",
       "      <td>100.694473</td>\n",
       "      <td>76.831047</td>\n",
       "      <td>31.613873</td>\n",
       "      <td>59.997318</td>\n",
       "      <td>52.054901</td>\n",
       "      <td>76.603951</td>\n",
       "      <td>15.654763</td>\n",
       "      <td>0</td>\n",
       "      <td>59.3</td>\n",
       "    </tr>\n",
       "    <tr>\n",
       "      <th>4</th>\n",
       "      <td>22.359692</td>\n",
       "      <td>46.879379</td>\n",
       "      <td>33.301228</td>\n",
       "      <td>35.578388</td>\n",
       "      <td>114.848450</td>\n",
       "      <td>25.253469</td>\n",
       "      <td>165.554520</td>\n",
       "      <td>106.579338</td>\n",
       "      <td>75.198700</td>\n",
       "      <td>33.318371</td>\n",
       "      <td>63.201122</td>\n",
       "      <td>57.078968</td>\n",
       "      <td>100.175446</td>\n",
       "      <td>15.805896</td>\n",
       "      <td>0</td>\n",
       "      <td>77.3</td>\n",
       "    </tr>\n",
       "    <tr>\n",
       "      <th>...</th>\n",
       "      <td>...</td>\n",
       "      <td>...</td>\n",
       "      <td>...</td>\n",
       "      <td>...</td>\n",
       "      <td>...</td>\n",
       "      <td>...</td>\n",
       "      <td>...</td>\n",
       "      <td>...</td>\n",
       "      <td>...</td>\n",
       "      <td>...</td>\n",
       "      <td>...</td>\n",
       "      <td>...</td>\n",
       "      <td>...</td>\n",
       "      <td>...</td>\n",
       "      <td>...</td>\n",
       "      <td>...</td>\n",
       "    </tr>\n",
       "    <tr>\n",
       "      <th>395</th>\n",
       "      <td>21.545984</td>\n",
       "      <td>45.408581</td>\n",
       "      <td>27.167900</td>\n",
       "      <td>34.238220</td>\n",
       "      <td>87.749992</td>\n",
       "      <td>23.869658</td>\n",
       "      <td>157.093094</td>\n",
       "      <td>91.882301</td>\n",
       "      <td>72.135750</td>\n",
       "      <td>32.659149</td>\n",
       "      <td>56.978413</td>\n",
       "      <td>48.515335</td>\n",
       "      <td>74.356583</td>\n",
       "      <td>14.940570</td>\n",
       "      <td>0</td>\n",
       "      <td>51.7</td>\n",
       "    </tr>\n",
       "    <tr>\n",
       "      <th>396</th>\n",
       "      <td>22.625656</td>\n",
       "      <td>49.227798</td>\n",
       "      <td>26.309393</td>\n",
       "      <td>32.858608</td>\n",
       "      <td>90.607895</td>\n",
       "      <td>24.658215</td>\n",
       "      <td>169.162079</td>\n",
       "      <td>90.448189</td>\n",
       "      <td>76.826469</td>\n",
       "      <td>34.129715</td>\n",
       "      <td>61.756729</td>\n",
       "      <td>45.681595</td>\n",
       "      <td>79.705154</td>\n",
       "      <td>16.533670</td>\n",
       "      <td>1</td>\n",
       "      <td>58.0</td>\n",
       "    </tr>\n",
       "    <tr>\n",
       "      <th>397</th>\n",
       "      <td>23.037413</td>\n",
       "      <td>50.321423</td>\n",
       "      <td>24.211857</td>\n",
       "      <td>32.132156</td>\n",
       "      <td>85.032234</td>\n",
       "      <td>21.701828</td>\n",
       "      <td>166.234940</td>\n",
       "      <td>91.258911</td>\n",
       "      <td>79.260719</td>\n",
       "      <td>31.132559</td>\n",
       "      <td>57.531410</td>\n",
       "      <td>48.716549</td>\n",
       "      <td>73.816757</td>\n",
       "      <td>14.949279</td>\n",
       "      <td>0</td>\n",
       "      <td>52.5</td>\n",
       "    </tr>\n",
       "    <tr>\n",
       "      <th>398</th>\n",
       "      <td>22.347176</td>\n",
       "      <td>46.713753</td>\n",
       "      <td>22.616318</td>\n",
       "      <td>34.585938</td>\n",
       "      <td>84.996567</td>\n",
       "      <td>20.987843</td>\n",
       "      <td>162.202942</td>\n",
       "      <td>88.928185</td>\n",
       "      <td>73.794296</td>\n",
       "      <td>30.869650</td>\n",
       "      <td>60.021980</td>\n",
       "      <td>44.175919</td>\n",
       "      <td>73.926147</td>\n",
       "      <td>13.739647</td>\n",
       "      <td>0</td>\n",
       "      <td>47.0</td>\n",
       "    </tr>\n",
       "    <tr>\n",
       "      <th>399</th>\n",
       "      <td>22.205345</td>\n",
       "      <td>48.219727</td>\n",
       "      <td>22.311346</td>\n",
       "      <td>30.157072</td>\n",
       "      <td>84.765457</td>\n",
       "      <td>21.591635</td>\n",
       "      <td>163.325424</td>\n",
       "      <td>88.221565</td>\n",
       "      <td>77.713448</td>\n",
       "      <td>32.297630</td>\n",
       "      <td>56.539604</td>\n",
       "      <td>44.238430</td>\n",
       "      <td>67.033615</td>\n",
       "      <td>15.509435</td>\n",
       "      <td>0</td>\n",
       "      <td>47.2</td>\n",
       "    </tr>\n",
       "  </tbody>\n",
       "</table>\n",
       "<p>400 rows × 16 columns</p>\n",
       "</div>"
      ],
      "text/plain": [
       "         ankle  arm-length      bicep       calf       chest    forearm  \\\n",
       "0    23.424223   47.128738  29.744926  37.697201   98.719429  25.687422   \n",
       "1    23.465136   48.513802  28.611294  33.724255   96.476715  24.859922   \n",
       "2    21.773336   45.142460  25.588623  32.983479   85.886726  21.981810   \n",
       "3    23.121952   47.717579  27.691643  36.397129   85.084686  23.563515   \n",
       "4    22.359692   46.879379  33.301228  35.578388  114.848450  25.253469   \n",
       "..         ...         ...        ...        ...         ...        ...   \n",
       "395  21.545984   45.408581  27.167900  34.238220   87.749992  23.869658   \n",
       "396  22.625656   49.227798  26.309393  32.858608   90.607895  24.658215   \n",
       "397  23.037413   50.321423  24.211857  32.132156   85.032234  21.701828   \n",
       "398  22.347176   46.713753  22.616318  34.585938   84.996567  20.987843   \n",
       "399  22.205345   48.219727  22.311346  30.157072   84.765457  21.591635   \n",
       "\n",
       "         height         hip  leg-length  shoulder-breadth  shoulder-to-crotch  \\\n",
       "0    168.497925  101.086189   74.171860         37.112251           64.667030   \n",
       "1    173.204254   98.461998   76.298210         35.401356           66.202171   \n",
       "2    157.488388   89.685318   72.312012         31.207792           55.746342   \n",
       "3    165.294891  100.694473   76.831047         31.613873           59.997318   \n",
       "4    165.554520  106.579338   75.198700         33.318371           63.201122   \n",
       "..          ...         ...         ...               ...                 ...   \n",
       "395  157.093094   91.882301   72.135750         32.659149           56.978413   \n",
       "396  169.162079   90.448189   76.826469         34.129715           61.756729   \n",
       "397  166.234940   91.258911   79.260719         31.132559           57.531410   \n",
       "398  162.202942   88.928185   73.794296         30.869650           60.021980   \n",
       "399  163.325424   88.221565   77.713448         32.297630           56.539604   \n",
       "\n",
       "         thigh       waist      wrist  gender  weight_kg  \n",
       "0    52.378044   87.121025  16.179781       1       70.0  \n",
       "1    48.386967   85.328270  16.165899       1       63.8  \n",
       "2    46.059982   72.437881  14.523148       0       49.8  \n",
       "3    52.054901   76.603951  15.654763       0       59.3  \n",
       "4    57.078968  100.175446  15.805896       0       77.3  \n",
       "..         ...         ...        ...     ...        ...  \n",
       "395  48.515335   74.356583  14.940570       0       51.7  \n",
       "396  45.681595   79.705154  16.533670       1       58.0  \n",
       "397  48.716549   73.816757  14.949279       0       52.5  \n",
       "398  44.175919   73.926147  13.739647       0       47.0  \n",
       "399  44.238430   67.033615  15.509435       0       47.2  \n",
       "\n",
       "[400 rows x 16 columns]"
      ]
     },
     "execution_count": 8,
     "metadata": {},
     "output_type": "execute_result"
    }
   ],
   "source": [
    "test_data"
   ]
  },
  {
   "cell_type": "code",
   "execution_count": 9,
   "metadata": {},
   "outputs": [],
   "source": [
    "#To split the test dataset into features (x_test) and the target variable (y_test)\n",
    "x_test = test_data.drop('weight_kg', axis=1)\n",
    "y_test = test_data['weight_kg']"
   ]
  },
  {
   "cell_type": "code",
   "execution_count": 10,
   "metadata": {},
   "outputs": [],
   "source": [
    "#To load the datasets\n",
    "measurement_train = pd.read_csv('measurements_train.csv')\n",
    "meta_train = pd.read_csv('hwg_metadata_train.csv')"
   ]
  },
  {
   "cell_type": "code",
   "execution_count": 11,
   "metadata": {},
   "outputs": [],
   "source": [
    "#To merge the datasets on \"subject_id\"\n",
    "train_data = pd.merge(measurement_train, meta_train, on='subject_id')"
   ]
  },
  {
   "cell_type": "code",
   "execution_count": 12,
   "metadata": {},
   "outputs": [],
   "source": [
    "#To drop the \"height_cm\" and \"subject_id\" columns\n",
    "train_data = train_data.drop(['height_cm', 'subject_id'], axis=1)"
   ]
  },
  {
   "cell_type": "code",
   "execution_count": 13,
   "metadata": {},
   "outputs": [],
   "source": [
    "#To encode the gender to numeric value\n",
    "encoder = LabelEncoder()\n",
    "train_data['gender'] = encoder.fit_transform(train_data['gender'])"
   ]
  },
  {
   "cell_type": "code",
   "execution_count": 14,
   "metadata": {},
   "outputs": [],
   "source": [
    "#To split the test dataset into features (x_test) and the target variable (y_test)\n",
    "y_train = train_data['weight_kg']\n",
    "x_train = train_data.drop('weight_kg', axis=1)"
   ]
  },
  {
   "cell_type": "code",
   "execution_count": 15,
   "metadata": {},
   "outputs": [],
   "source": [
    "#To scale the data\n",
    "scaler = StandardScaler()\n",
    "x_train_scaled = scaler.fit_transform(x_train)\n",
    "x_test_scaled = scaler.transform(x_test)"
   ]
  },
  {
   "cell_type": "code",
   "execution_count": 16,
   "metadata": {},
   "outputs": [],
   "source": [
    "#Fit a Model without PCA (no reduction)"
   ]
  },
  {
   "cell_type": "code",
   "execution_count": 17,
   "metadata": {},
   "outputs": [],
   "source": [
    "#To store the results\n",
    "results = {}"
   ]
  },
  {
   "cell_type": "code",
   "execution_count": 18,
   "metadata": {},
   "outputs": [],
   "source": [
    "#To create the Linear Regression Model\n",
    "#Train and test the model\n",
    "model = LinearRegression()\n",
    "model.fit(x_train_scaled, y_train)\n",
    "y_predict = model.predict(x_test_scaled)"
   ]
  },
  {
   "cell_type": "code",
   "execution_count": 19,
   "metadata": {},
   "outputs": [
    {
     "data": {
      "text/plain": [
       "9.519707968942528"
      ]
     },
     "execution_count": 19,
     "metadata": {},
     "output_type": "execute_result"
    }
   ],
   "source": [
    "#To calculate the Mean Squared Error\n",
    "mse_linear = mean_squared_error(y_test, y_predict)\n",
    "mse_linear"
   ]
  },
  {
   "cell_type": "code",
   "execution_count": 20,
   "metadata": {},
   "outputs": [
    {
     "data": {
      "text/plain": [
       "2.154763693387445"
      ]
     },
     "execution_count": 20,
     "metadata": {},
     "output_type": "execute_result"
    }
   ],
   "source": [
    "#To calculate the Mean Absolute Error \n",
    "mae_linear = mean_absolute_error(y_test, y_predict)\n",
    "mae_linear"
   ]
  },
  {
   "cell_type": "code",
   "execution_count": 21,
   "metadata": {},
   "outputs": [
    {
     "data": {
      "text/plain": [
       "0.9734757282698714"
      ]
     },
     "execution_count": 21,
     "metadata": {},
     "output_type": "execute_result"
    }
   ],
   "source": [
    "#To calculate the R-squared \n",
    "r2_linear = r2_score(y_test, y_predict)\n",
    "r2_linear"
   ]
  },
  {
   "cell_type": "code",
   "execution_count": 22,
   "metadata": {},
   "outputs": [],
   "source": [
    "#To store the results \n",
    "results[f'Without PCA'] = {\n",
    "        'MSE': mse_linear,\n",
    "        'MAE': mae_linear,\n",
    "        'R2': r2_linear\n",
    "}"
   ]
  },
  {
   "cell_type": "code",
   "execution_count": 23,
   "metadata": {},
   "outputs": [],
   "source": [
    "#Fit Models with Reduced Data (dimensionality reduction) "
   ]
  },
  {
   "cell_type": "code",
   "execution_count": 24,
   "metadata": {},
   "outputs": [],
   "source": [
    "#To store the Mean Squared Error\n",
    "mse_values = []"
   ]
  },
  {
   "cell_type": "code",
   "execution_count": 25,
   "metadata": {},
   "outputs": [],
   "source": [
    "# Different K values for PCA\n",
    "K_values = [2, 4, 6, 8, 10] \n",
    "for K in K_values:\n",
    "    #To train and test PCA for each K value\n",
    "    pca = PCA(n_components=K)\n",
    "    x_train_pca = pca.fit_transform(x_train_scaled)\n",
    "    x_test_pca = pca.transform(x_test_scaled)\n",
    "    \n",
    "    #To train and test the Linear Regression model\n",
    "    model.fit(x_train_pca, y_train)\n",
    "    y_predict_pca = model.predict(x_test_pca)\n",
    "    \n",
    "    #To calculate thhe metrics\n",
    "    mse_pca = mean_squared_error(y_test, y_predict_pca)\n",
    "    mae_pca = mean_absolute_error(y_test, y_predict_pca)\n",
    "    r2_pca = r2_score(y_test, y_predict_pca)\n",
    "    \n",
    "    #To store the results\n",
    "    results[f'With PCA, K={K}'] = {\n",
    "        'MSE': mse_pca,\n",
    "        'MAE': mae_pca,\n",
    "        'R2': r2_pca\n",
    "    }\n",
    "\n",
    "    mse_values.append(mse_pca)"
   ]
  },
  {
   "cell_type": "code",
   "execution_count": 26,
   "metadata": {},
   "outputs": [],
   "source": [
    "#Fit Models with Reduced Data (dimensionality reduction) "
   ]
  },
  {
   "cell_type": "code",
   "execution_count": 27,
   "metadata": {},
   "outputs": [
    {
     "data": {
      "image/png": "[encoded data removed]",
      "text/plain": [
       "<Figure size 720x432 with 1 Axes>"
      ]
     },
     "metadata": {
      "needs_background": "light"
     },
     "output_type": "display_data"
    }
   ],
   "source": [
    "#To plot a graph to showing how MSE changes with different K values\n",
    "plt.figure(figsize=(10, 6))\n",
    "plt.plot(K_values, mse_values, marker='o')\n",
    "plt.xlabel('K')\n",
    "plt.ylabel('Mean Squared Error (MSE)')\n",
    "plt.title('MSE vs K')\n",
    "plt.grid(True)\n",
    "plt.show()"
   ]
  },
  {
   "cell_type": "code",
   "execution_count": 28,
   "metadata": {},
   "outputs": [
    {
     "data": {
      "text/plain": [
       "{'Without PCA': {'MSE': 9.519707968942528,\n",
       "  'MAE': 2.154763693387445,\n",
       "  'R2': 0.9734757282698714},\n",
       " 'With PCA, K=2': {'MSE': 14.33907963018879,\n",
       "  'MAE': 2.78866983423226,\n",
       "  'R2': 0.9600477613691623},\n",
       " 'With PCA, K=4': {'MSE': 10.700931507198215,\n",
       "  'MAE': 2.358743648296678,\n",
       "  'R2': 0.970184545997796},\n",
       " 'With PCA, K=6': {'MSE': 9.72950318141529,\n",
       "  'MAE': 2.2175099723317633,\n",
       "  'R2': 0.9728911866808372},\n",
       " 'With PCA, K=8': {'MSE': 9.81100529240627,\n",
       "  'MAE': 2.207835320526156,\n",
       "  'R2': 0.9726641015490709},\n",
       " 'With PCA, K=10': {'MSE': 9.808065876577828,\n",
       "  'MAE': 2.2080664888333583,\n",
       "  'R2': 0.9726722914919153}}"
      ]
     },
     "execution_count": 28,
     "metadata": {},
     "output_type": "execute_result"
    }
   ],
   "source": [
    "results"
   ]
  },
  {
   "cell_type": "code",
   "execution_count": 29,
   "metadata": {},
   "outputs": [
    {
     "data": {
      "image/png": "[encoded data removed]",
      "text/plain": [
       "<Figure size 720x432 with 1 Axes>"
      ]
     },
     "metadata": {
      "needs_background": "light"
     },
     "output_type": "display_data"
    }
   ],
   "source": [
    "#To create bar chart comparing the metrics \n",
    "labels = list(results.keys())\n",
    "mse_values = [results[label]['MSE'] for label in labels]\n",
    "mae_values = [results[label]['MAE'] for label in labels]\n",
    "r2_values = [results[label]['R2'] for label in labels]\n",
    "\n",
    "x = np.arange(len(labels))\n",
    "width = 0.2  \n",
    "\n",
    "fig, ax = plt.subplots(figsize=(10, 6))\n",
    "rects1 = ax.bar(x - width, mse_values, width, label='MSE', color='skyblue')\n",
    "rects2 = ax.bar(x, mae_values, width, label='MAE', color='lightgreen')\n",
    "rects3 = ax.bar(x + width, r2_values, width, label='R2', color='salmon')\n",
    "\n",
    "ax.set_ylabel('Score')\n",
    "ax.set_xticks(x)\n",
    "ax.set_xticklabels(labels)\n",
    "ax.legend()\n",
    "\n",
    "plt.tight_layout()\n",
    "plt.show()"
   ]
  },
  {
   "cell_type": "code",
   "execution_count": null,
   "metadata": {},
   "outputs": [],
   "source": []
  }
 ],
 "metadata": {
  "kernelspec": {
   "display_name": "Python 3",
   "language": "python",
   "name": "python3"
  },
  "language_info": {
   "codemirror_mode": {
    "name": "ipython",
    "version": 3
   },
   "file_extension": ".py",
   "mimetype": "text/x-python",
   "name": "python",
   "nbconvert_exporter": "python",
   "pygments_lexer": "ipython3",
   "version": "3.8.5"
  }
 },
 "nbformat": 4,
 "nbformat_minor": 4
}
